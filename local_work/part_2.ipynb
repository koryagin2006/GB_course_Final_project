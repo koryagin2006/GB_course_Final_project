{
 "cells": [
  {
   "cell_type": "code",
   "execution_count": 1,
   "id": "b5db2580",
   "metadata": {},
   "outputs": [],
   "source": [
    "import pandas as pd"
   ]
  },
  {
   "cell_type": "code",
   "execution_count": 3,
   "id": "fd26f038",
   "metadata": {},
   "outputs": [
    {
     "name": "stdout",
     "output_type": "stream",
     "text": [
      "Wall time: 11.6 s\n"
     ]
    }
   ],
   "source": [
    "%%time\n",
    "data = pd.read_parquet(path='../data/data.parquet')"
   ]
  },
  {
   "cell_type": "code",
   "execution_count": 6,
   "id": "e33f86a3",
   "metadata": {},
   "outputs": [
    {
     "name": "stdout",
     "output_type": "stream",
     "text": [
      "<class 'pandas.core.frame.DataFrame'>\n",
      "Int64Index: 19346684 entries, 0 to 19999996\n",
      "Columns: 8 entries, sale_date_date to quantity\n",
      "dtypes: datetime64[ns](1), float64(1), int32(6)\n",
      "memory usage: 885.6 MB\n"
     ]
    }
   ],
   "source": [
    "data.info(verbose=False)"
   ]
  },
  {
   "cell_type": "code",
   "execution_count": 9,
   "id": "03a79c71",
   "metadata": {},
   "outputs": [],
   "source": [
    "data['week_of_year'] = data['sale_date_date'].dt.isocalendar().week"
   ]
  },
  {
   "cell_type": "code",
   "execution_count": 10,
   "id": "87858399",
   "metadata": {},
   "outputs": [
    {
     "data": {
      "text/html": [
       "<div>\n",
       "<style scoped>\n",
       "    .dataframe tbody tr th:only-of-type {\n",
       "        vertical-align: middle;\n",
       "    }\n",
       "\n",
       "    .dataframe tbody tr th {\n",
       "        vertical-align: top;\n",
       "    }\n",
       "\n",
       "    .dataframe thead th {\n",
       "        text-align: right;\n",
       "    }\n",
       "</style>\n",
       "<table border=\"1\" class=\"dataframe\">\n",
       "  <thead>\n",
       "    <tr style=\"text-align: right;\">\n",
       "      <th></th>\n",
       "      <th>sale_date_date</th>\n",
       "      <th>contact_id</th>\n",
       "      <th>shop_id</th>\n",
       "      <th>product_id</th>\n",
       "      <th>product_sub_category_id</th>\n",
       "      <th>product_category_id</th>\n",
       "      <th>brand_id</th>\n",
       "      <th>quantity</th>\n",
       "      <th>week_of_year</th>\n",
       "    </tr>\n",
       "  </thead>\n",
       "  <tbody>\n",
       "    <tr>\n",
       "      <th>0</th>\n",
       "      <td>2018-12-07</td>\n",
       "      <td>1260627</td>\n",
       "      <td>1455</td>\n",
       "      <td>168308</td>\n",
       "      <td>906</td>\n",
       "      <td>205</td>\n",
       "      <td>-1</td>\n",
       "      <td>1.0</td>\n",
       "      <td>49</td>\n",
       "    </tr>\n",
       "    <tr>\n",
       "      <th>1</th>\n",
       "      <td>2018-12-07</td>\n",
       "      <td>198287</td>\n",
       "      <td>279</td>\n",
       "      <td>134832</td>\n",
       "      <td>404</td>\n",
       "      <td>93</td>\n",
       "      <td>-1</td>\n",
       "      <td>1.0</td>\n",
       "      <td>49</td>\n",
       "    </tr>\n",
       "    <tr>\n",
       "      <th>2</th>\n",
       "      <td>2018-12-07</td>\n",
       "      <td>2418385</td>\n",
       "      <td>848</td>\n",
       "      <td>101384</td>\n",
       "      <td>404</td>\n",
       "      <td>93</td>\n",
       "      <td>-1</td>\n",
       "      <td>1.0</td>\n",
       "      <td>49</td>\n",
       "    </tr>\n",
       "    <tr>\n",
       "      <th>3</th>\n",
       "      <td>2018-12-07</td>\n",
       "      <td>1285774</td>\n",
       "      <td>1511</td>\n",
       "      <td>168570</td>\n",
       "      <td>906</td>\n",
       "      <td>205</td>\n",
       "      <td>-1</td>\n",
       "      <td>1.0</td>\n",
       "      <td>49</td>\n",
       "    </tr>\n",
       "    <tr>\n",
       "      <th>4</th>\n",
       "      <td>2018-12-07</td>\n",
       "      <td>1810323</td>\n",
       "      <td>1501</td>\n",
       "      <td>168319</td>\n",
       "      <td>906</td>\n",
       "      <td>205</td>\n",
       "      <td>-1</td>\n",
       "      <td>1.0</td>\n",
       "      <td>49</td>\n",
       "    </tr>\n",
       "  </tbody>\n",
       "</table>\n",
       "</div>"
      ],
      "text/plain": [
       "  sale_date_date  contact_id  shop_id  product_id  product_sub_category_id  \\\n",
       "0     2018-12-07     1260627     1455      168308                      906   \n",
       "1     2018-12-07      198287      279      134832                      404   \n",
       "2     2018-12-07     2418385      848      101384                      404   \n",
       "3     2018-12-07     1285774     1511      168570                      906   \n",
       "4     2018-12-07     1810323     1501      168319                      906   \n",
       "\n",
       "   product_category_id  brand_id  quantity  week_of_year  \n",
       "0                  205        -1       1.0            49  \n",
       "1                   93        -1       1.0            49  \n",
       "2                   93        -1       1.0            49  \n",
       "3                  205        -1       1.0            49  \n",
       "4                  205        -1       1.0            49  "
      ]
     },
     "execution_count": 10,
     "metadata": {},
     "output_type": "execute_result"
    }
   ],
   "source": [
    "data.head()"
   ]
  },
  {
   "cell_type": "code",
   "execution_count": null,
   "id": "3304ef54",
   "metadata": {},
   "outputs": [],
   "source": []
  }
 ],
 "metadata": {
  "kernelspec": {
   "display_name": "Python 3",
   "language": "python",
   "name": "python3"
  },
  "language_info": {
   "codemirror_mode": {
    "name": "ipython",
    "version": 3
   },
   "file_extension": ".py",
   "mimetype": "text/x-python",
   "name": "python",
   "nbconvert_exporter": "python",
   "pygments_lexer": "ipython3",
   "version": "3.8.5"
  }
 },
 "nbformat": 4,
 "nbformat_minor": 5
}
