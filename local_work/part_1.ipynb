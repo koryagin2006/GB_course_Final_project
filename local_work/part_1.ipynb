{
 "cells": [
  {
   "cell_type": "code",
   "execution_count": 1,
   "id": "b2797095",
   "metadata": {},
   "outputs": [],
   "source": [
    "# Import libraries\n",
    "import pandas as pd"
   ]
  },
  {
   "cell_type": "markdown",
   "id": "b1fc9088",
   "metadata": {},
   "source": [
    "#### Импорт данных"
   ]
  },
  {
   "cell_type": "code",
   "execution_count": 2,
   "id": "c5c5b55f",
   "metadata": {},
   "outputs": [
    {
     "name": "stdout",
     "output_type": "stream",
     "text": [
      "Wall time: 33.9 ms\n"
     ]
    }
   ],
   "source": [
    "%%time\n",
    "data_small = pd.read_csv(filepath_or_buffer='../data/data.csv', nrows=5)"
   ]
  },
  {
   "cell_type": "code",
   "execution_count": 5,
   "id": "7ab1a11f",
   "metadata": {},
   "outputs": [
    {
     "data": {
      "text/plain": [
       "['sale_date_date',\n",
       " 'contact_id',\n",
       " 'shop_id',\n",
       " 'product_id',\n",
       " 'name',\n",
       " 'product_sub_category_id',\n",
       " 'product_category_id',\n",
       " 'brand_id',\n",
       " 'quantity']"
      ]
     },
     "execution_count": 5,
     "metadata": {},
     "output_type": "execute_result"
    }
   ],
   "source": [
    "data_small.columns.tolist()"
   ]
  },
  {
   "cell_type": "code",
   "execution_count": 8,
   "id": "06812b62",
   "metadata": {},
   "outputs": [
    {
     "name": "stdout",
     "output_type": "stream",
     "text": [
      "Wall time: 1min 5s\n"
     ]
    }
   ],
   "source": [
    "%%time\n",
    "cols = ['sale_date_date', 'contact_id', 'shop_id', 'product_id', 'product_sub_category_id', 'product_category_id', 'brand_id', 'quantity']\n",
    "data = pd.read_csv(filepath_or_buffer='../data/data.csv', usecols=cols, nrows=19999997)"
   ]
  },
  {
   "cell_type": "code",
   "execution_count": 9,
   "id": "c07a4cba",
   "metadata": {},
   "outputs": [
    {
     "name": "stdout",
     "output_type": "stream",
     "text": [
      "<class 'pandas.core.frame.DataFrame'>\n",
      "RangeIndex: 19999997 entries, 0 to 19999996\n",
      "Columns: 8 entries, sale_date_date to quantity\n",
      "dtypes: int64(6), object(2)\n",
      "memory usage: 1.2+ GB\n"
     ]
    }
   ],
   "source": [
    "data.info(verbose=False)"
   ]
  },
  {
   "cell_type": "markdown",
   "id": "b9663be6",
   "metadata": {},
   "source": [
    "#### Предварительная очистка"
   ]
  },
  {
   "cell_type": "code",
   "execution_count": 38,
   "id": "66e50303",
   "metadata": {},
   "outputs": [],
   "source": [
    "# Изменяем типы\n",
    "\n",
    "data['quantity'] = data['quantity'].str.replace(pat=',', repl='.', regex=False).astype('float')\n",
    "data['sale_date_date'] = data['sale_date_date'].astype('datetime64')\n",
    "\n",
    "data[['contact_id', 'shop_id', 'product_id', 'product_sub_category_id', 'product_category_id', 'brand_id']] = \\\n",
    "data[['contact_id', 'shop_id', 'product_id', 'product_sub_category_id', 'product_category_id', 'brand_id']].astype(int)"
   ]
  },
  {
   "cell_type": "code",
   "execution_count": 40,
   "id": "03f664fb",
   "metadata": {},
   "outputs": [],
   "source": [
    "# small_risk = df[\"risk\"] == \"Small\"\n",
    "# medium_risk = df[\"risk\"] == \"Medium\"\n",
    "# high_risk = df[\"risk\"] == \"High\"\n",
    "# Тогда вы можете использовать его вот так:\n",
    "\n",
    "# df[small_risk | medium_risk | high_risk]"
   ]
  },
  {
   "cell_type": "code",
   "execution_count": 51,
   "id": "4a2a654e",
   "metadata": {},
   "outputs": [],
   "source": [
    "quantity_neg_1 = data['quantity'] != -1\n",
    "product_neg_1 = data['product_id'] != -1\n",
    "product_sub_category_neg_1 = data['product_sub_category_id'] != -1\n",
    "product_category_neg_1 = data['product_category_id'] != -1\n",
    "\n",
    "data = data[quantity_neg_1 & product_neg_1 & product_sub_category_neg_1 & product_category_neg_1]"
   ]
  },
  {
   "cell_type": "code",
   "execution_count": 57,
   "id": "04b4a71c",
   "metadata": {},
   "outputs": [],
   "source": [
    "data.to_parquet(path='../data/data.parquet')"
   ]
  },
  {
   "cell_type": "code",
   "execution_count": null,
   "id": "24f2d376",
   "metadata": {},
   "outputs": [],
   "source": []
  }
 ],
 "metadata": {
  "kernelspec": {
   "display_name": "Python 3",
   "language": "python",
   "name": "python3"
  },
  "language_info": {
   "codemirror_mode": {
    "name": "ipython",
    "version": 3
   },
   "file_extension": ".py",
   "mimetype": "text/x-python",
   "name": "python",
   "nbconvert_exporter": "python",
   "pygments_lexer": "ipython3",
   "version": "3.8.5"
  }
 },
 "nbformat": 4,
 "nbformat_minor": 5
}
