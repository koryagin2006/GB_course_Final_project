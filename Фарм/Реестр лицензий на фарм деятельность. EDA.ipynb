{
 "cells": [
  {
   "cell_type": "markdown",
   "metadata": {},
   "source": [
    "### Импорт библиотек"
   ]
  },
  {
   "cell_type": "code",
   "execution_count": 1,
   "metadata": {
    "ExecuteTime": {
     "end_time": "2021-04-17T15:51:59.329239Z",
     "start_time": "2021-04-17T15:51:57.481266Z"
    }
   },
   "outputs": [],
   "source": [
    "from pprint import pprint\n",
    "import pandas as pd\n",
    "import matplotlib.pyplot as plt"
   ]
  },
  {
   "cell_type": "markdown",
   "metadata": {},
   "source": [
    "### Загрузка данных"
   ]
  },
  {
   "cell_type": "code",
   "execution_count": 2,
   "metadata": {
    "ExecuteTime": {
     "end_time": "2021-04-17T15:52:40.524759Z",
     "start_time": "2021-04-17T15:51:59.360127Z"
    }
   },
   "outputs": [],
   "source": [
    "df_licenses = pd.read_json('./licenses_20210411.json')"
   ]
  },
  {
   "cell_type": "code",
   "execution_count": 3,
   "metadata": {
    "ExecuteTime": {
     "end_time": "2021-04-17T15:52:40.726063Z",
     "start_time": "2021-04-17T15:52:40.696968Z"
    }
   },
   "outputs": [
    {
     "data": {
      "text/plain": [
       "(371134, 15)"
      ]
     },
     "execution_count": 3,
     "metadata": {},
     "output_type": "execute_result"
    }
   ],
   "source": [
    "df_licenses.shape"
   ]
  },
  {
   "cell_type": "markdown",
   "metadata": {},
   "source": [
    "### EDA"
   ]
  },
  {
   "cell_type": "code",
   "execution_count": 4,
   "metadata": {
    "ExecuteTime": {
     "end_time": "2021-04-17T15:52:40.899022Z",
     "start_time": "2021-04-17T15:52:40.837775Z"
    }
   },
   "outputs": [
    {
     "data": {
      "text/html": [
       "<div>\n",
       "<style scoped>\n",
       "    .dataframe tbody tr th:only-of-type {\n",
       "        vertical-align: middle;\n",
       "    }\n",
       "\n",
       "    .dataframe tbody tr th {\n",
       "        vertical-align: top;\n",
       "    }\n",
       "\n",
       "    .dataframe thead th {\n",
       "        text-align: right;\n",
       "    }\n",
       "</style>\n",
       "<table border=\"1\" class=\"dataframe\">\n",
       "  <thead>\n",
       "    <tr style=\"text-align: right;\">\n",
       "      <th></th>\n",
       "      <th>0</th>\n",
       "      <th>1</th>\n",
       "    </tr>\n",
       "  </thead>\n",
       "  <tbody>\n",
       "    <tr>\n",
       "      <th>Наименование лицензирующего органа</th>\n",
       "      <td>Министерство здравоохранения Свердловской области</td>\n",
       "      <td>Министерство здравоохранения Свердловской области</td>\n",
       "    </tr>\n",
       "    <tr>\n",
       "      <th>Лицензируемый вид деятельности</th>\n",
       "      <td>Фармацевтическая деятельность</td>\n",
       "      <td>Фармацевтическая деятельность</td>\n",
       "    </tr>\n",
       "    <tr>\n",
       "      <th>Полное наименование лицензиата</th>\n",
       "      <td>Общество с ограниченной ответственностью \"Ригл...</td>\n",
       "      <td>Общество с ограниченной ответственностью \"Ригл...</td>\n",
       "    </tr>\n",
       "    <tr>\n",
       "      <th>Сокращенное наименование лицензиата</th>\n",
       "      <td>ООО «Ригла-Екатеринбург»</td>\n",
       "      <td>ООО «Ригла-Екатеринбург»</td>\n",
       "    </tr>\n",
       "    <tr>\n",
       "      <th>Фирменное наименование лицензиата</th>\n",
       "      <td>Общество с ограниченной ответственностью \"Ригл...</td>\n",
       "      <td>Общество с ограниченной ответственностью \"Ригл...</td>\n",
       "    </tr>\n",
       "    <tr>\n",
       "      <th>Организационно-правовая форма</th>\n",
       "      <td>Общество с ограниченной ответственностью</td>\n",
       "      <td>Общество с ограниченной ответственностью</td>\n",
       "    </tr>\n",
       "    <tr>\n",
       "      <th>ИНН лицензиата</th>\n",
       "      <td>6.67113e+09</td>\n",
       "      <td>6.67113e+09</td>\n",
       "    </tr>\n",
       "    <tr>\n",
       "      <th>Дата выдачи лицензии</th>\n",
       "      <td>21.09.2018</td>\n",
       "      <td>21.09.2018</td>\n",
       "    </tr>\n",
       "    <tr>\n",
       "      <th>Дата прекращения действия лицензии</th>\n",
       "      <td>NaN</td>\n",
       "      <td>NaN</td>\n",
       "    </tr>\n",
       "    <tr>\n",
       "      <th>Выполняемые работы, оказываемые услуги</th>\n",
       "      <td>03. хранение лекарственных препаратов для меди...</td>\n",
       "      <td>06. розничная торговля лекарственными препарат...</td>\n",
       "    </tr>\n",
       "    <tr>\n",
       "      <th>Адрес места осуществления лицензируемого вида деятельности</th>\n",
       "      <td>620149, Свердловская область, г. Екатеринбург,...</td>\n",
       "      <td>620149, Свердловская область, г. Екатеринбург,...</td>\n",
       "    </tr>\n",
       "    <tr>\n",
       "      <th>Регион</th>\n",
       "      <td>Свердловская область</td>\n",
       "      <td>Свердловская область</td>\n",
       "    </tr>\n",
       "    <tr>\n",
       "      <th>Населенный пункт</th>\n",
       "      <td>Екатеринбург</td>\n",
       "      <td>Екатеринбург</td>\n",
       "    </tr>\n",
       "    <tr>\n",
       "      <th>Улица, дом, офис и т.д.</th>\n",
       "      <td>ул. Серафимы Дерябиной, д. 51</td>\n",
       "      <td>ул. Серафимы Дерябиной, д. 51</td>\n",
       "    </tr>\n",
       "    <tr>\n",
       "      <th>Сведения о переоформлении лицензии</th>\n",
       "      <td>NaN</td>\n",
       "      <td>NaN</td>\n",
       "    </tr>\n",
       "  </tbody>\n",
       "</table>\n",
       "</div>"
      ],
      "text/plain": [
       "                                                                                                    0  \\\n",
       "Наименование лицензирующего органа                  Министерство здравоохранения Свердловской области   \n",
       "Лицензируемый вид деятельности                                          Фармацевтическая деятельность   \n",
       "Полное наименование лицензиата                      Общество с ограниченной ответственностью \"Ригл...   \n",
       "Сокращенное наименование лицензиата                                          ООО «Ригла-Екатеринбург»   \n",
       "Фирменное наименование лицензиата                   Общество с ограниченной ответственностью \"Ригл...   \n",
       "Организационно-правовая форма                                Общество с ограниченной ответственностью   \n",
       "ИНН лицензиата                                                                            6.67113e+09   \n",
       "Дата выдачи лицензии                                                                       21.09.2018   \n",
       "Дата прекращения действия лицензии                                                                NaN   \n",
       "Выполняемые работы, оказываемые услуги              03. хранение лекарственных препаратов для меди...   \n",
       "Адрес места осуществления лицензируемого вида д...  620149, Свердловская область, г. Екатеринбург,...   \n",
       "Регион                                                                           Свердловская область   \n",
       "Населенный пункт                                                                         Екатеринбург   \n",
       "Улица, дом, офис и т.д.                                                 ул. Серафимы Дерябиной, д. 51   \n",
       "Сведения о переоформлении лицензии                                                                NaN   \n",
       "\n",
       "                                                                                                    1  \n",
       "Наименование лицензирующего органа                  Министерство здравоохранения Свердловской области  \n",
       "Лицензируемый вид деятельности                                          Фармацевтическая деятельность  \n",
       "Полное наименование лицензиата                      Общество с ограниченной ответственностью \"Ригл...  \n",
       "Сокращенное наименование лицензиата                                          ООО «Ригла-Екатеринбург»  \n",
       "Фирменное наименование лицензиата                   Общество с ограниченной ответственностью \"Ригл...  \n",
       "Организационно-правовая форма                                Общество с ограниченной ответственностью  \n",
       "ИНН лицензиата                                                                            6.67113e+09  \n",
       "Дата выдачи лицензии                                                                       21.09.2018  \n",
       "Дата прекращения действия лицензии                                                                NaN  \n",
       "Выполняемые работы, оказываемые услуги              06. розничная торговля лекарственными препарат...  \n",
       "Адрес места осуществления лицензируемого вида д...  620149, Свердловская область, г. Екатеринбург,...  \n",
       "Регион                                                                           Свердловская область  \n",
       "Населенный пункт                                                                         Екатеринбург  \n",
       "Улица, дом, офис и т.д.                                                 ул. Серафимы Дерябиной, д. 51  \n",
       "Сведения о переоформлении лицензии                                                                NaN  "
      ]
     },
     "execution_count": 4,
     "metadata": {},
     "output_type": "execute_result"
    }
   ],
   "source": [
    "df_licenses.head(2).T"
   ]
  },
  {
   "cell_type": "markdown",
   "metadata": {},
   "source": [
    "### Отберем только адреса Оренбурга"
   ]
  },
  {
   "cell_type": "code",
   "execution_count": 5,
   "metadata": {
    "ExecuteTime": {
     "end_time": "2021-04-17T15:52:41.089613Z",
     "start_time": "2021-04-17T15:52:41.023789Z"
    }
   },
   "outputs": [],
   "source": [
    "df_oren_obl = df_licenses.loc[df_licenses['Регион'] == 'Оренбургская область', :]"
   ]
  },
  {
   "cell_type": "markdown",
   "metadata": {},
   "source": [
    "### Отберем только лицензии на розницную торговлю"
   ]
  },
  {
   "cell_type": "code",
   "execution_count": 30,
   "metadata": {
    "ExecuteTime": {
     "end_time": "2021-04-18T06:07:31.415234Z",
     "start_time": "2021-04-18T06:07:31.405261Z"
    }
   },
   "outputs": [
    {
     "data": {
      "text/plain": [
       "14"
      ]
     },
     "execution_count": 30,
     "metadata": {},
     "output_type": "execute_result"
    }
   ],
   "source": [
    "# Число униальных видов работ\n",
    "df_oren_obl['Выполняемые работы, оказываемые услуги'].nunique()"
   ]
  },
  {
   "cell_type": "code",
   "execution_count": 36,
   "metadata": {
    "ExecuteTime": {
     "end_time": "2021-04-18T06:09:18.290341Z",
     "start_time": "2021-04-18T06:09:18.280369Z"
    }
   },
   "outputs": [
    {
     "data": {
      "text/plain": [
       "['3. хранение лекарственных препаратов для медицинского применения',\n",
       " '7. отпуск лекарственных препаратов для медицинского применения',\n",
       " '6. розничная торговля лекарственными препаратами для медицинского применения',\n",
       " '2. хранение лекарственных средств для медицинского применения',\n",
       " '8. изготовление лекарственных препаратов для медицинского применения',\n",
       " '1. оптовая торговля лекарственными средствами для медицинского применения',\n",
       " '4. перевозка лекарственных средств для медицинского применения',\n",
       " '5. перевозка лекарственных препаратов для медицинского применения',\n",
       " None,\n",
       " '2. Розничная торговля лекарственными средствами без права изготовления лекарственных средств',\n",
       " '1. Оптовая торговля',\n",
       " '4. Без права изготовления',\n",
       " '2. Розничная торговля лекарственными средствами с правом работы с сильнодействующими и ядовитыми веществами списков ПККН',\n",
       " 'Розничная торговля лекарственными средствами без права работы с сильнодействующими и ядовитыми веществами, согласно списков ПККН',\n",
       " '1. Розничная торговля лекарственными средствами без права работы с сильнодействующими и ядовитыми веществами списков ПККН']"
      ]
     },
     "execution_count": 36,
     "metadata": {},
     "output_type": "execute_result"
    }
   ],
   "source": [
    "list(\n",
    "    df_oren_obl['Выполняемые работы, оказываемые услуги'].unique()\n",
    ")"
   ]
  },
  {
   "cell_type": "code",
   "execution_count": 37,
   "metadata": {
    "ExecuteTime": {
     "end_time": "2021-04-18T06:10:52.906100Z",
     "start_time": "2021-04-18T06:10:52.899657Z"
    }
   },
   "outputs": [],
   "source": [
    "works = [\n",
    "    '6. розничная торговля лекарственными препаратами для медицинского применения',\n",
    "    '2. Розничная торговля лекарственными средствами без права изготовления лекарственных средств',\n",
    "    'Розничная торговля лекарственными средствами без права работы с сильнодействующими и ядовитыми веществами, согласно списков ПККН',\n",
    "    '1. Розничная торговля лекарственными средствами без права работы с сильнодействующими и ядовитыми веществами списков ПККН'\n",
    "]"
   ]
  },
  {
   "cell_type": "code",
   "execution_count": 41,
   "metadata": {
    "ExecuteTime": {
     "end_time": "2021-04-18T06:11:31.452034Z",
     "start_time": "2021-04-18T06:11:31.444053Z"
    }
   },
   "outputs": [],
   "source": [
    "df_oren_obl = df_oren_obl.loc[df_oren_obl['Выполняемые работы, оказываемые услуги'].isin(works), :]"
   ]
  },
  {
   "cell_type": "markdown",
   "metadata": {},
   "source": [
    "### Организационно-правовая форма"
   ]
  },
  {
   "cell_type": "code",
   "execution_count": 64,
   "metadata": {
    "ExecuteTime": {
     "end_time": "2021-04-18T06:18:24.966946Z",
     "start_time": "2021-04-18T06:18:24.948697Z"
    }
   },
   "outputs": [
    {
     "data": {
      "text/plain": [
       "['Индивидуальный предприниматель',\n",
       " 'Общество с ограниченной ответственностью',\n",
       " 'Государственное автономное учреждение',\n",
       " 'Государственное бюджетное учреждение',\n",
       " 'Автономное учреждение',\n",
       " 'Бюджетное учреждение',\n",
       " 'Закрытое акционерное общество',\n",
       " 'Акционерное общество',\n",
       " 'Частное учреждение',\n",
       " 'Федеральное государственное автономное учреждение',\n",
       " 'Федеральное казенное учреждение здравоохранения',\n",
       " 'Федеральное государственное бюджетное образовательное учреждение']"
      ]
     },
     "execution_count": 64,
     "metadata": {},
     "output_type": "execute_result"
    }
   ],
   "source": [
    "df_oren_obl['Организационно-правовая форма'].unique().tolist()"
   ]
  },
  {
   "cell_type": "code",
   "execution_count": 72,
   "metadata": {
    "ExecuteTime": {
     "end_time": "2021-04-18T06:20:27.491616Z",
     "start_time": "2021-04-18T06:20:27.477651Z"
    }
   },
   "outputs": [
    {
     "name": "stdout",
     "output_type": "stream",
     "text": [
      "Автономное учреждение \n",
      " ['ГАУЗ \"ОАС\"']\n",
      "Закрытое акционерное общество \n",
      " ['ЗАО \"ЦРА № 77\" с. Курмаевка' 'ЗАО \"Аптека №20\"' 'ЗАО \"Гайфармация\"'\n",
      " 'ЗАО \"ЦРА № 88\"' 'ЗАО «Матвеевкафармация»' 'ЗАО \"ЦРА \"№']\n",
      "Акционерное общество \n",
      " ['АО \"Тандер\"']\n"
     ]
    }
   ],
   "source": [
    "OOF_list = [\n",
    "#     'Индивидуальный предприниматель',\n",
    "#     'Общество с ограниченной ответственностью',\n",
    "#     'Государственное автономное учреждение',\n",
    "#     'Государственное бюджетное учреждение',\n",
    "    'Автономное учреждение',\n",
    "#     'Бюджетное учреждение',\n",
    "    'Закрытое акционерное общество',\n",
    "    'Акционерное общество',\n",
    "#     'Частное учреждение',\n",
    "#     'Федеральное государственное автономное учреждение',\n",
    "#     'Федеральное казенное учреждение здравоохранения',\n",
    "#     'Федеральное государственное бюджетное образовательное учреждение'\n",
    "]\n",
    "\n",
    "for i in OOF_list:\n",
    "    print(\n",
    "        i, '\\n',\n",
    "        df_oren_obl.loc[df_oren_obl['Организационно-правовая форма'] == i,\n",
    "                        'Сокращенное наименование лицензиата'].unique())"
   ]
  },
  {
   "cell_type": "markdown",
   "metadata": {},
   "source": [
    "#### Уберем лишнее"
   ]
  },
  {
   "cell_type": "code",
   "execution_count": 77,
   "metadata": {
    "ExecuteTime": {
     "end_time": "2021-04-18T06:22:19.179380Z",
     "start_time": "2021-04-18T06:22:19.170402Z"
    }
   },
   "outputs": [],
   "source": [
    "OOF_list = [\n",
    "    'Индивидуальный предприниматель',\n",
    "    'Общество с ограниченной ответственностью',\n",
    "    'Автономное учреждение',\n",
    "    'Закрытое акционерное общество',\n",
    "    'Акционерное общество',\n",
    "]\n",
    "\n",
    "df_oren_obl = df_oren_obl.loc[df_oren_obl['Организационно-правовая форма'].isin(OOF_list), :]"
   ]
  },
  {
   "cell_type": "code",
   "execution_count": 86,
   "metadata": {
    "ExecuteTime": {
     "end_time": "2021-04-18T06:25:10.962735Z",
     "start_time": "2021-04-18T06:25:10.955756Z"
    }
   },
   "outputs": [
    {
     "data": {
      "text/plain": [
       "0"
      ]
     },
     "execution_count": 86,
     "metadata": {},
     "output_type": "execute_result"
    }
   ],
   "source": [
    "df_oren_obl.loc[:, 'Сведения о переоформлении лицензии'].nunique()"
   ]
  },
  {
   "cell_type": "code",
   "execution_count": null,
   "metadata": {},
   "outputs": [],
   "source": []
  },
  {
   "cell_type": "code",
   "execution_count": null,
   "metadata": {},
   "outputs": [],
   "source": []
  },
  {
   "cell_type": "markdown",
   "metadata": {
    "ExecuteTime": {
     "end_time": "2021-04-18T06:22:26.103911Z",
     "start_time": "2021-04-18T06:22:26.033099Z"
    }
   },
   "source": [
    "### Только нужные столбцы"
   ]
  },
  {
   "cell_type": "code",
   "execution_count": 105,
   "metadata": {
    "ExecuteTime": {
     "end_time": "2021-04-18T06:29:58.418388Z",
     "start_time": "2021-04-18T06:29:58.413401Z"
    }
   },
   "outputs": [],
   "source": [
    "features = [\n",
    "#     'Наименование лицензирующего органа',\n",
    "#     'Лицензируемый вид деятельности',\n",
    "    'Полное наименование лицензиата',\n",
    "#     'Сокращенное наименование лицензиата',\n",
    "#     'Фирменное наименование лицензиата',\n",
    "    'Организационно-правовая форма',\n",
    "    'ИНН лицензиата',\n",
    "    'Дата выдачи лицензии',\n",
    "#     'Дата прекращения действия лицензии',\n",
    "    'Выполняемые работы, оказываемые услуги',\n",
    "    'Адрес места осуществления лицензируемого вида деятельности',\n",
    "#     'Регион',\n",
    "    'Населенный пункт',\n",
    "    'Улица, дом, офис и т.д.',\n",
    "#     'Сведения о переоформлении лицензии'\n",
    "]"
   ]
  },
  {
   "cell_type": "code",
   "execution_count": 107,
   "metadata": {
    "ExecuteTime": {
     "end_time": "2021-04-18T06:31:37.649557Z",
     "start_time": "2021-04-18T06:31:37.642574Z"
    }
   },
   "outputs": [],
   "source": [
    "# Отберем столбцы\n",
    "df_oren_obl = df_oren_obl[features]"
   ]
  },
  {
   "cell_type": "code",
   "execution_count": 112,
   "metadata": {
    "ExecuteTime": {
     "end_time": "2021-04-18T06:33:15.783555Z",
     "start_time": "2021-04-18T06:33:15.766602Z"
    }
   },
   "outputs": [
    {
     "name": "stderr",
     "output_type": "stream",
     "text": [
      "<ipython-input-112-6627d8b0ce36>:1: SettingWithCopyWarning: \n",
      "A value is trying to be set on a copy of a slice from a DataFrame.\n",
      "Try using .loc[row_indexer,col_indexer] = value instead\n",
      "\n",
      "See the caveats in the documentation: https://pandas.pydata.org/pandas-docs/stable/user_guide/indexing.html#returning-a-view-versus-a-copy\n",
      "  df_oren_obl['Дата выдачи лицензии'] = pd.to_datetime(df_oren_obl['Дата выдачи лицензии'])\n"
     ]
    }
   ],
   "source": [
    "df_oren_obl['Дата выдачи лицензии'] = pd.to_datetime(df_oren_obl['Дата выдачи лицензии'])"
   ]
  },
  {
   "cell_type": "code",
   "execution_count": 117,
   "metadata": {
    "ExecuteTime": {
     "end_time": "2021-04-18T06:34:35.100135Z",
     "start_time": "2021-04-18T06:34:34.763651Z"
    }
   },
   "outputs": [
    {
     "data": {
      "image/png": "[encoded data removed]",
      "text/plain": [
       "<Figure size 432x288 with 1 Axes>"
      ]
     },
     "metadata": {
      "needs_background": "light"
     },
     "output_type": "display_data"
    }
   ],
   "source": [
    "df_oren_obl['Дата выдачи лицензии'].hist(bins=25);"
   ]
  },
  {
   "cell_type": "code",
   "execution_count": 177,
   "metadata": {
    "ExecuteTime": {
     "end_time": "2021-04-18T06:58:29.279969Z",
     "start_time": "2021-04-18T06:58:29.270184Z"
    }
   },
   "outputs": [],
   "source": [
    "l2 = ['г.Оренбург', 'город Оренбург', 'Оренбург', 'Оренбург город']\n",
    "\n",
    "df_oren = df_oren_obl.loc[df_oren_obl['Населенный пункт'].isin(l2), :]"
   ]
  },
  {
   "cell_type": "code",
   "execution_count": 187,
   "metadata": {
    "ExecuteTime": {
     "end_time": "2021-04-18T07:02:20.736260Z",
     "start_time": "2021-04-18T07:02:20.686943Z"
    }
   },
   "outputs": [
    {
     "data": {
      "text/html": [
       "<div>\n",
       "<style scoped>\n",
       "    .dataframe tbody tr th:only-of-type {\n",
       "        vertical-align: middle;\n",
       "    }\n",
       "\n",
       "    .dataframe tbody tr th {\n",
       "        vertical-align: top;\n",
       "    }\n",
       "\n",
       "    .dataframe thead th {\n",
       "        text-align: right;\n",
       "    }\n",
       "</style>\n",
       "<table border=\"1\" class=\"dataframe\">\n",
       "  <thead>\n",
       "    <tr style=\"text-align: right;\">\n",
       "      <th></th>\n",
       "      <th>Полное наименование лицензиата</th>\n",
       "      <th>Организационно-правовая форма</th>\n",
       "      <th>ИНН лицензиата</th>\n",
       "      <th>Адрес места осуществления лицензируемого вида деятельности</th>\n",
       "      <th>Выполняемые работы, оказываемые услуги</th>\n",
       "      <th>Дата выдачи лицензии</th>\n",
       "      <th>Населенный пункт</th>\n",
       "      <th>Улица, дом, офис и т.д.</th>\n",
       "    </tr>\n",
       "  </thead>\n",
       "  <tbody>\n",
       "    <tr>\n",
       "      <th>0</th>\n",
       "      <td>Акционерное общество \"Тандер\"</td>\n",
       "      <td>Акционерное общество</td>\n",
       "      <td>2.310031e+09</td>\n",
       "      <td>460000, Оренбургская область, г. Оренбург, ул....</td>\n",
       "      <td>1</td>\n",
       "      <td>1</td>\n",
       "      <td>1</td>\n",
       "      <td>1</td>\n",
       "    </tr>\n",
       "    <tr>\n",
       "      <th>1</th>\n",
       "      <td>Акционерное общество \"Тандер\"</td>\n",
       "      <td>Акционерное общество</td>\n",
       "      <td>2.310031e+09</td>\n",
       "      <td>460000, Оренбургская область, г. Оренбург, ули...</td>\n",
       "      <td>1</td>\n",
       "      <td>1</td>\n",
       "      <td>1</td>\n",
       "      <td>1</td>\n",
       "    </tr>\n",
       "    <tr>\n",
       "      <th>2</th>\n",
       "      <td>Акционерное общество \"Тандер\"</td>\n",
       "      <td>Акционерное общество</td>\n",
       "      <td>2.310031e+09</td>\n",
       "      <td>460004, Оренбургская область, г. Оренбург, пр-...</td>\n",
       "      <td>1</td>\n",
       "      <td>1</td>\n",
       "      <td>1</td>\n",
       "      <td>1</td>\n",
       "    </tr>\n",
       "    <tr>\n",
       "      <th>3</th>\n",
       "      <td>Акционерное общество \"Тандер\"</td>\n",
       "      <td>Акционерное общество</td>\n",
       "      <td>2.310031e+09</td>\n",
       "      <td>460005, Оренбургская область, г. Оренбург, пр-...</td>\n",
       "      <td>1</td>\n",
       "      <td>1</td>\n",
       "      <td>1</td>\n",
       "      <td>1</td>\n",
       "    </tr>\n",
       "    <tr>\n",
       "      <th>4</th>\n",
       "      <td>Акционерное общество \"Тандер\"</td>\n",
       "      <td>Акционерное общество</td>\n",
       "      <td>2.310031e+09</td>\n",
       "      <td>460008, Оренбургская область, г. Оренбург, пос...</td>\n",
       "      <td>1</td>\n",
       "      <td>1</td>\n",
       "      <td>1</td>\n",
       "      <td>1</td>\n",
       "    </tr>\n",
       "    <tr>\n",
       "      <th>...</th>\n",
       "      <td>...</td>\n",
       "      <td>...</td>\n",
       "      <td>...</td>\n",
       "      <td>...</td>\n",
       "      <td>...</td>\n",
       "      <td>...</td>\n",
       "      <td>...</td>\n",
       "      <td>...</td>\n",
       "    </tr>\n",
       "    <tr>\n",
       "      <th>319</th>\n",
       "      <td>Общество с ограниченной ответственностью «ЖИВИЦА»</td>\n",
       "      <td>Общество с ограниченной ответственностью</td>\n",
       "      <td>5.638074e+09</td>\n",
       "      <td>460052, Оренбургская область, г. Оренбург, ул....</td>\n",
       "      <td>1</td>\n",
       "      <td>1</td>\n",
       "      <td>1</td>\n",
       "      <td>1</td>\n",
       "    </tr>\n",
       "    <tr>\n",
       "      <th>320</th>\n",
       "      <td>Общество с ограниченной ответственностью «ЖИВИЦА»</td>\n",
       "      <td>Общество с ограниченной ответственностью</td>\n",
       "      <td>5.638074e+09</td>\n",
       "      <td>460060, Оренбургская область, г. Оренбург, ули...</td>\n",
       "      <td>1</td>\n",
       "      <td>1</td>\n",
       "      <td>1</td>\n",
       "      <td>1</td>\n",
       "    </tr>\n",
       "    <tr>\n",
       "      <th>321</th>\n",
       "      <td>Общество с ограниченной ответственностью «Клин...</td>\n",
       "      <td>Общество с ограниченной ответственностью</td>\n",
       "      <td>5.610065e+09</td>\n",
       "      <td>46001, Оренбургская область, г. Оренбург, пер....</td>\n",
       "      <td>1</td>\n",
       "      <td>1</td>\n",
       "      <td>1</td>\n",
       "      <td>1</td>\n",
       "    </tr>\n",
       "    <tr>\n",
       "      <th>322</th>\n",
       "      <td>Общество с ограниченной ответственностью «Межд...</td>\n",
       "      <td>Общество с ограниченной ответственностью</td>\n",
       "      <td>5.612038e+09</td>\n",
       "      <td>460018, Оренбургская область, г. Оренбург, пр....</td>\n",
       "      <td>1</td>\n",
       "      <td>1</td>\n",
       "      <td>1</td>\n",
       "      <td>1</td>\n",
       "    </tr>\n",
       "    <tr>\n",
       "      <th>323</th>\n",
       "      <td>Общество с ограниченной ответственностью\"Фармг...</td>\n",
       "      <td>Общество с ограниченной ответственностью</td>\n",
       "      <td>5.610057e+09</td>\n",
       "      <td>460028, Оренбургская область, г. Оренбург, ул....</td>\n",
       "      <td>1</td>\n",
       "      <td>1</td>\n",
       "      <td>1</td>\n",
       "      <td>1</td>\n",
       "    </tr>\n",
       "  </tbody>\n",
       "</table>\n",
       "<p>324 rows × 8 columns</p>\n",
       "</div>"
      ],
      "text/plain": [
       "                        Полное наименование лицензиата  \\\n",
       "0                        Акционерное общество \"Тандер\"   \n",
       "1                        Акционерное общество \"Тандер\"   \n",
       "2                        Акционерное общество \"Тандер\"   \n",
       "3                        Акционерное общество \"Тандер\"   \n",
       "4                        Акционерное общество \"Тандер\"   \n",
       "..                                                 ...   \n",
       "319  Общество с ограниченной ответственностью «ЖИВИЦА»   \n",
       "320  Общество с ограниченной ответственностью «ЖИВИЦА»   \n",
       "321  Общество с ограниченной ответственностью «Клин...   \n",
       "322  Общество с ограниченной ответственностью «Межд...   \n",
       "323  Общество с ограниченной ответственностью\"Фармг...   \n",
       "\n",
       "                Организационно-правовая форма  ИНН лицензиата  \\\n",
       "0                        Акционерное общество    2.310031e+09   \n",
       "1                        Акционерное общество    2.310031e+09   \n",
       "2                        Акционерное общество    2.310031e+09   \n",
       "3                        Акционерное общество    2.310031e+09   \n",
       "4                        Акционерное общество    2.310031e+09   \n",
       "..                                        ...             ...   \n",
       "319  Общество с ограниченной ответственностью    5.638074e+09   \n",
       "320  Общество с ограниченной ответственностью    5.638074e+09   \n",
       "321  Общество с ограниченной ответственностью    5.610065e+09   \n",
       "322  Общество с ограниченной ответственностью    5.612038e+09   \n",
       "323  Общество с ограниченной ответственностью    5.610057e+09   \n",
       "\n",
       "    Адрес места осуществления лицензируемого вида деятельности  \\\n",
       "0    460000, Оренбургская область, г. Оренбург, ул....           \n",
       "1    460000, Оренбургская область, г. Оренбург, ули...           \n",
       "2    460004, Оренбургская область, г. Оренбург, пр-...           \n",
       "3    460005, Оренбургская область, г. Оренбург, пр-...           \n",
       "4    460008, Оренбургская область, г. Оренбург, пос...           \n",
       "..                                                 ...           \n",
       "319  460052, Оренбургская область, г. Оренбург, ул....           \n",
       "320  460060, Оренбургская область, г. Оренбург, ули...           \n",
       "321  46001, Оренбургская область, г. Оренбург, пер....           \n",
       "322  460018, Оренбургская область, г. Оренбург, пр....           \n",
       "323  460028, Оренбургская область, г. Оренбург, ул....           \n",
       "\n",
       "     Выполняемые работы, оказываемые услуги  Дата выдачи лицензии  \\\n",
       "0                                         1                     1   \n",
       "1                                         1                     1   \n",
       "2                                         1                     1   \n",
       "3                                         1                     1   \n",
       "4                                         1                     1   \n",
       "..                                      ...                   ...   \n",
       "319                                       1                     1   \n",
       "320                                       1                     1   \n",
       "321                                       1                     1   \n",
       "322                                       1                     1   \n",
       "323                                       1                     1   \n",
       "\n",
       "     Населенный пункт  Улица, дом, офис и т.д.  \n",
       "0                   1                        1  \n",
       "1                   1                        1  \n",
       "2                   1                        1  \n",
       "3                   1                        1  \n",
       "4                   1                        1  \n",
       "..                ...                      ...  \n",
       "319                 1                        1  \n",
       "320                 1                        1  \n",
       "321                 1                        1  \n",
       "322                 1                        1  \n",
       "323                 1                        1  \n",
       "\n",
       "[324 rows x 8 columns]"
      ]
     },
     "execution_count": 187,
     "metadata": {},
     "output_type": "execute_result"
    }
   ],
   "source": [
    "pivot_oren = pd.pivot_table(df_oren,\n",
    "               index=[\n",
    "                   'Полное наименование лицензиата',\n",
    "                   'Организационно-правовая форма', \n",
    "                   'ИНН лицензиата', \n",
    "                   'Адрес места осуществления лицензируемого вида деятельности'\n",
    "               ],\n",
    "               aggfunc='count') \\\n",
    "    .reset_index()\n",
    "\n",
    "pivot_oren"
   ]
  },
  {
   "cell_type": "code",
   "execution_count": 197,
   "metadata": {
    "ExecuteTime": {
     "end_time": "2021-04-18T07:08:35.331719Z",
     "start_time": "2021-04-18T07:08:35.308187Z"
    }
   },
   "outputs": [
    {
     "data": {
      "text/html": [
       "<div>\n",
       "<style scoped>\n",
       "    .dataframe tbody tr th:only-of-type {\n",
       "        vertical-align: middle;\n",
       "    }\n",
       "\n",
       "    .dataframe tbody tr th {\n",
       "        vertical-align: top;\n",
       "    }\n",
       "\n",
       "    .dataframe thead th {\n",
       "        text-align: right;\n",
       "    }\n",
       "</style>\n",
       "<table border=\"1\" class=\"dataframe\">\n",
       "  <thead>\n",
       "    <tr style=\"text-align: right;\">\n",
       "      <th></th>\n",
       "      <th>Наименование</th>\n",
       "      <th>Форма</th>\n",
       "      <th>Адрес</th>\n",
       "    </tr>\n",
       "  </thead>\n",
       "  <tbody>\n",
       "    <tr>\n",
       "      <th>0</th>\n",
       "      <td>Акционерное общество \"Тандер\"</td>\n",
       "      <td>Акционерное общество</td>\n",
       "      <td>460000, Оренбургская область, г. Оренбург, ул....</td>\n",
       "    </tr>\n",
       "    <tr>\n",
       "      <th>1</th>\n",
       "      <td>Акционерное общество \"Тандер\"</td>\n",
       "      <td>Акционерное общество</td>\n",
       "      <td>460000, Оренбургская область, г. Оренбург, ули...</td>\n",
       "    </tr>\n",
       "    <tr>\n",
       "      <th>2</th>\n",
       "      <td>Акционерное общество \"Тандер\"</td>\n",
       "      <td>Акционерное общество</td>\n",
       "      <td>460004, Оренбургская область, г. Оренбург, пр-...</td>\n",
       "    </tr>\n",
       "    <tr>\n",
       "      <th>3</th>\n",
       "      <td>Акционерное общество \"Тандер\"</td>\n",
       "      <td>Акционерное общество</td>\n",
       "      <td>460005, Оренбургская область, г. Оренбург, пр-...</td>\n",
       "    </tr>\n",
       "    <tr>\n",
       "      <th>4</th>\n",
       "      <td>Акционерное общество \"Тандер\"</td>\n",
       "      <td>Акционерное общество</td>\n",
       "      <td>460008, Оренбургская область, г. Оренбург, пос...</td>\n",
       "    </tr>\n",
       "  </tbody>\n",
       "</table>\n",
       "</div>"
      ],
      "text/plain": [
       "                    Наименование                 Форма  \\\n",
       "0  Акционерное общество \"Тандер\"  Акционерное общество   \n",
       "1  Акционерное общество \"Тандер\"  Акционерное общество   \n",
       "2  Акционерное общество \"Тандер\"  Акционерное общество   \n",
       "3  Акционерное общество \"Тандер\"  Акционерное общество   \n",
       "4  Акционерное общество \"Тандер\"  Акционерное общество   \n",
       "\n",
       "                                               Адрес  \n",
       "0  460000, Оренбургская область, г. Оренбург, ул....  \n",
       "1  460000, Оренбургская область, г. Оренбург, ули...  \n",
       "2  460004, Оренбургская область, г. Оренбург, пр-...  \n",
       "3  460005, Оренбургская область, г. Оренбург, пр-...  \n",
       "4  460008, Оренбургская область, г. Оренбург, пос...  "
      ]
     },
     "execution_count": 197,
     "metadata": {},
     "output_type": "execute_result"
    }
   ],
   "source": [
    "pivot_oren[['Полное наименование лицензиата', 'Организационно-правовая форма', \n",
    "            'Адрес места осуществления лицензируемого вида деятельности']]\\\n",
    "    .rename(columns={'Полное наименование лицензиата': 'Наименование',\n",
    "                     'Организационно-правовая форма': 'Форма',\n",
    "                     'Адрес места осуществления лицензируемого вида деятельности': 'Адрес'}) \\\n",
    "    .head()"
   ]
  },
  {
   "cell_type": "code",
   "execution_count": 195,
   "metadata": {
    "ExecuteTime": {
     "end_time": "2021-04-18T07:07:46.296240Z",
     "start_time": "2021-04-18T07:07:46.260930Z"
    }
   },
   "outputs": [],
   "source": [
    "pivot_oren[['Полное наименование лицензиата', 'Организационно-правовая форма', \n",
    "            'Адрес места осуществления лицензируемого вида деятельности']]\\\n",
    "    .rename(columns={'Полное наименование лицензиата': 'Наименование',\n",
    "                     'Организационно-правовая форма': 'Форма',\n",
    "                     'Адрес места осуществления лицензируемого вида деятельности': 'Адрес'}) \\\n",
    "    .to_csv(path_or_buf='Pharmacies_in_Orenburg.csv')"
   ]
  },
  {
   "cell_type": "code",
   "execution_count": null,
   "metadata": {},
   "outputs": [],
   "source": []
  },
  {
   "cell_type": "code",
   "execution_count": null,
   "metadata": {},
   "outputs": [],
   "source": []
  }
 ],
 "metadata": {
  "hide_input": false,
  "kernelspec": {
   "display_name": "Python 3",
   "language": "python",
   "name": "python3"
  },
  "language_info": {
   "codemirror_mode": {
    "name": "ipython",
    "version": 3
   },
   "file_extension": ".py",
   "mimetype": "text/x-python",
   "name": "python",
   "nbconvert_exporter": "python",
   "pygments_lexer": "ipython3",
   "version": "3.8.5"
  },
  "toc": {
   "base_numbering": 1,
   "nav_menu": {},
   "number_sections": true,
   "sideBar": true,
   "skip_h1_title": false,
   "title_cell": "Table of Contents",
   "title_sidebar": "Contents",
   "toc_cell": false,
   "toc_position": {},
   "toc_section_display": true,
   "toc_window_display": false
  },
  "varInspector": {
   "cols": {
    "lenName": 16,
    "lenType": 16,
    "lenVar": 40
   },
   "kernels_config": {
    "python": {
     "delete_cmd_postfix": "",
     "delete_cmd_prefix": "del ",
     "library": "var_list.py",
     "varRefreshCmd": "print(var_dic_list())"
    },
    "r": {
     "delete_cmd_postfix": ") ",
     "delete_cmd_prefix": "rm(",
     "library": "var_list.r",
     "varRefreshCmd": "cat(var_dic_list()) "
    }
   },
   "position": {
    "height": "279.667px",
    "left": "936px",
    "right": "20px",
    "top": "119px",
    "width": "325px"
   },
   "types_to_exclude": [
    "module",
    "function",
    "builtin_function_or_method",
    "instance",
    "_Feature"
   ],
   "window_display": false
  }
 },
 "nbformat": 4,
 "nbformat_minor": 4
}
