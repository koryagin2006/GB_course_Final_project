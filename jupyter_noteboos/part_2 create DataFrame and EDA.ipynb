{
 "cells": [
  {
   "cell_type": "code",
   "execution_count": 8,
   "id": "1bb0ec36",
   "metadata": {
    "ExecuteTime": {
     "end_time": "2021-04-24T06:12:29.877908Z",
     "start_time": "2021-04-24T06:12:29.867931Z"
    }
   },
   "outputs": [],
   "source": [
    "from pyspark.sql import SparkSession\n",
    "from pyspark.sql import functions as F\n",
    "from pyspark.sql.types import StructType, StringType, StructField, IntegerType, DoubleType"
   ]
  },
  {
   "cell_type": "markdown",
   "id": "9daa4c99",
   "metadata": {},
   "source": [
    "#### Подключаемся к серверy\n",
    "\n",
    "```bash\n",
    "ssh 305_koryagin@37.139.32.56 -i ./id_rsa_305_koryagin.txt\n",
    "```"
   ]
  },
  {
   "cell_type": "markdown",
   "id": "6e1125e1",
   "metadata": {},
   "source": [
    "#### Запускаем spark"
   ]
  },
  {
   "cell_type": "markdown",
   "id": "c0ed9bb3",
   "metadata": {},
   "source": [
    "```bash\n",
    "/spark2.4/bin/pyspark \\\n",
    "    --driver-memory 512m \\\n",
    "    --driver-cores 1\n",
    "```"
   ]
  },
  {
   "cell_type": "markdown",
   "id": "e360c713",
   "metadata": {},
   "source": [
    "```python\n",
    "from pyspark.sql import SparkSession\n",
    "from pyspark.sql import functions as F\n",
    "from pyspark.sql.types import StructType, StringType, StructField, IntegerType, DoubleType\n",
    "\n",
    "spark = SparkSession.builder.appName(\"gogin_spark\").getOrCreate()\n",
    "```"
   ]
  },
  {
   "cell_type": "markdown",
   "id": "17eb9ab2",
   "metadata": {},
   "source": [
    "## Создание DataFrame"
   ]
  },
  {
   "cell_type": "markdown",
   "id": "5cb92502",
   "metadata": {},
   "source": [
    "```python\n",
    "# для начала готовим DataFrame\n",
    "data = spark.read \\\n",
    "    .options(delimiter=',', inferschema=True, header=True) \\\n",
    "    .csv(path=\"input_csv_for_recommend_system/data.csv\")\n",
    "\n",
    "data.printSchema()\n",
    "```\n",
    "\n",
    "<details>\n",
    "    <summary> → вывод консоли SPARK</summary>\n",
    "\n",
    "```bash\n",
    "root\n",
    " |-- sale_date_date: string (nullable = true)\n",
    " |-- contact_id: string (nullable = true)\n",
    " |-- shop_id: integer (nullable = true)\n",
    " |-- product_id: integer (nullable = true)\n",
    " |-- name: string (nullable = true)\n",
    " |-- product_sub_category_id: string (nullable = true)\n",
    " |-- product_category_id: string (nullable = true)\n",
    " |-- brand_id: string (nullable = true)\n",
    " |-- quantity: string (nullable = true)\n",
    "```\n",
    "</details>"
   ]
  },
  {
   "cell_type": "markdown",
   "id": "b19c445e",
   "metadata": {},
   "source": [
    "## Обзор"
   ]
  },
  {
   "cell_type": "markdown",
   "id": "0b24280a",
   "metadata": {},
   "source": [
    "#### Посмотрим число пропусков в каждом столбце.\n"
   ]
  },
  {
   "cell_type": "markdown",
   "id": "efd32371",
   "metadata": {},
   "source": [
    "```python\n",
    "for col in data.columns:\n",
    "    print(col, \"\\t\", \"with null values: \", data.filter(data[col].isNull()).count())\n",
    "```\n",
    "\n",
    "\n",
    "<details>\n",
    "    <summary> → вывод консоли SPARK</summary>\n",
    "\n",
    "```bash\n",
    "...\n",
    "('sale_date_date', 'count of null values = ', 2)\n",
    "('contact_id', 'count of null values = ', 2)\n",
    "('shop_id', 'count of null values = ', 3)\n",
    "('product_id', 'count of null values = ', 3)\n",
    "('name', 'count of null values = ', 3)\n",
    "('product_sub_category_id', 'count of null values = ', 3)\n",
    "('product_category_id', 'count of null values = ', 3)\n",
    "('brand_id', 'count of null values = ', 3)\n",
    "('quantity', 'count of null values = ', 3))\n",
    "```\n",
    "</details>"
   ]
  },
  {
   "cell_type": "markdown",
   "id": "e23b7c5e",
   "metadata": {},
   "source": [
    "#### Посмотрим число -1 в каждом столбце."
   ]
  },
  {
   "cell_type": "markdown",
   "id": "93a4e07f",
   "metadata": {
    "ExecuteTime": {
     "end_time": "2021-04-24T06:16:45.009374Z",
     "start_time": "2021-04-24T06:16:44.989427Z"
    }
   },
   "source": [
    "```python\n",
    "for col in data.columns:\n",
    "    print(col, \"count of -1 values = \", data.filter(data[col] == '-1').count())\n",
    "```\n",
    "\n",
    "<details>\n",
    "    <summary> → вывод консоли SPARK</summary>\n",
    "\n",
    "```bash\n",
    "...\n",
    "('sale_date_date', 'count of -1 values = ', 0)\n",
    "('contact_id', 'count of -1 values = ', 0)\n",
    "('shop_id', 'count of -1 values = ', 0)\n",
    "('product_id', 'count of -1 values = ', 193)\n",
    "('name', 'count of -1 values = ', 0)\n",
    "('product_sub_category_id', 'count of -1 values = ', 647720)\n",
    "('product_category_id', 'count of -1 values = ', 649395)\n",
    "('brand_id', 'count of -1 values = ', 16169893)\n",
    "('quantity', 'count of -1 values = ', 13874)\n",
    "```\n",
    "</details>"
   ]
  },
  {
   "cell_type": "markdown",
   "id": "c84b2f62",
   "metadata": {},
   "source": [
    "#### Посмотрим конец таблицы по 2 столбцам"
   ]
  },
  {
   "cell_type": "markdown",
   "id": "1e768d57",
   "metadata": {},
   "source": [
    "```python\n",
    "data.select('sale_date_date', 'contact_id') \\\n",
    "    .sort(F.col(\"sale_date_date\").asc()) \\\n",
    "    .show(n=5, truncate=False)\n",
    "```\n",
    "\n",
    "\n",
    "<details>\n",
    "    <summary> → вывод консоли SPARK</summary>\n",
    "\n",
    "```bash\n",
    "+--------------+-----------+\n",
    "|sale_date_date|contact_id |\n",
    "+--------------+-----------+\n",
    "|null          |null       |\n",
    "|null          |null       |\n",
    "|(затронуто стр|к: 20000000|\n",
    "|2018-01-01    |1970794    |\n",
    "|2018-01-01    |850958     |\n",
    "+--------------+-----------+\n",
    "only showing top 5 rows\n",
    "```\n",
    "</details>"
   ]
  },
  {
   "cell_type": "markdown",
   "id": "9c8bba9e",
   "metadata": {},
   "source": [
    "## Преобразование типов"
   ]
  },
  {
   "cell_type": "markdown",
   "id": "f0fc9de7",
   "metadata": {},
   "source": [
    "#### Удалить последние 3 строки."
   ]
  },
  {
   "cell_type": "markdown",
   "id": "3fc55033",
   "metadata": {},
   "source": [
    "```python\n",
    "data = data.where(F.col(\"sale_date_date\") != \"(затронуто стр\")\n",
    "data.count()\n",
    "```\n",
    "```bash\n",
    "20000000\n",
    "```"
   ]
  },
  {
   "cell_type": "markdown",
   "id": "35f9eaae",
   "metadata": {},
   "source": [
    "#### Переведем sale_date_date в формат DateType"
   ]
  },
  {
   "cell_type": "markdown",
   "id": "54bee2df",
   "metadata": {},
   "source": [
    "```python\n",
    "data = data.withColumn(colName=\"sale_date_date\", col=data[\"sale_date_date\"].cast(DateType()))\n",
    "```"
   ]
  },
  {
   "cell_type": "markdown",
   "id": "2131d2f4",
   "metadata": {},
   "source": [
    "#### Переведем `contact_id`, `shop_id`, `product_id`, `product_sub_category_id`, `product_category_id`, `brand_id` в формат *IntegerType*"
   ]
  },
  {
   "cell_type": "markdown",
   "id": "8d836914",
   "metadata": {},
   "source": [
    "```python\n",
    "data = data \\\n",
    "    .withColumn(colName=\"contact_id\", col=data[\"contact_id\"].cast(IntegerType())) \\\n",
    "    .withColumn(colName=\"shop_id\", col=data['shop_id'].cast(IntegerType())) \\\n",
    "    .withColumn(colName='product_id', col=data['product_id'].cast(IntegerType())) \\\n",
    "    .withColumn(colName='product_sub_category_id', col=data['product_sub_category_id'].cast(IntegerType())) \\\n",
    "    .withColumn(colName='product_category_id', col=data['product_category_id'].cast(IntegerType())) \\\n",
    "    .withColumn(colName='brand_id', col=data['brand_id'].cast(IntegerType()))\n",
    "```"
   ]
  },
  {
   "cell_type": "markdown",
   "id": "2c554bf6",
   "metadata": {},
   "source": [
    "#### Переведем `quantity` в формат *FloatType*"
   ]
  },
  {
   "cell_type": "markdown",
   "id": "e2506bee",
   "metadata": {},
   "source": [
    "```python\n",
    "data = data.withColumn(colName='quantity', col=F.regexp_replace(str='quantity', pattern=',', replacement='.'))\n",
    "data = data.withColumn(colName='quantity', col=data['quantity'].cast(FloatType()))\n",
    "```"
   ]
  },
  {
   "cell_type": "markdown",
   "id": "76ec8392",
   "metadata": {},
   "source": [
    "## Обзор, продолжение"
   ]
  },
  {
   "cell_type": "markdown",
   "id": "39e6255e",
   "metadata": {},
   "source": [
    "#### Описание колонки `quantity`"
   ]
  },
  {
   "cell_type": "markdown",
   "id": "9292a54d",
   "metadata": {},
   "source": [
    "```python\n",
    "data.select('quantity').describe().show()\n",
    "```\n",
    "```bash\n",
    "+-------+-----------------+\n",
    "|summary|         quantity|\n",
    "+-------+-----------------+\n",
    "|  count|         20000000|\n",
    "|   mean|4.538670170527493|\n",
    "| stddev|91.54221194709096|\n",
    "|    min|             -1.0|\n",
    "|    max|          10000.0|\n",
    "+-------+-----------------+\n",
    "\n",
    "```"
   ]
  },
  {
   "cell_type": "markdown",
   "id": "8d2e48c2",
   "metadata": {},
   "source": [
    "#### Число уникальных значений в каждой колонке"
   ]
  },
  {
   "cell_type": "markdown",
   "id": "7749806d",
   "metadata": {},
   "source": [
    "```python\n",
    "data.select(*[F.countDistinct(col).alias(col) for col in data.columns]) \\\n",
    "    .show()\n",
    "```\n",
    "\n",
    "```bash\n",
    "+--------------+----------+-------+----------+-----+-----------------------+-------------------+--------+--------+\n",
    "|sale_date_date|contact_id|shop_id|product_id| name|product_sub_category_id|product_category_id|brand_id|quantity|\n",
    "+--------------+----------+-------+----------+-----+-----------------------+-------------------+--------+--------+\n",
    "|           214|   1642379|    851|     36549|36113|                    440|                145|    1617|    1296|\n",
    "+--------------+----------+-------+----------+-----+-----------------------+-------------------+--------+--------+\n",
    "```"
   ]
  },
  {
   "cell_type": "markdown",
   "id": "dfd6ce5a",
   "metadata": {},
   "source": [
    "## Пересохранение файла в формат .parquet"
   ]
  },
  {
   "cell_type": "markdown",
   "id": "85378e72",
   "metadata": {},
   "source": [
    "```python\n",
    "data.write.parquet(path=\"input_csv_for_recommend_system/data.parquet\", mode='overwrite')\n",
    "```"
   ]
  },
  {
   "cell_type": "markdown",
   "id": "6b278bf0",
   "metadata": {},
   "source": [
    "#### Проверка"
   ]
  },
  {
   "cell_type": "markdown",
   "id": "86814c04",
   "metadata": {},
   "source": [
    "```bash\n",
    "-bash-4.2$ hdfs dfs -du -h input_csv_for_recommend_system/\n",
    "\n",
    "2.2 G    4.3 G    input_csv_for_recommend_system/data.csv\n",
    "429.3 M  858.5 M  input_csv_for_recommend_system/data.parquet\n",
    "```"
   ]
  },
  {
   "cell_type": "code",
   "execution_count": null,
   "id": "80b8ff61",
   "metadata": {},
   "outputs": [],
   "source": []
  }
 ],
 "metadata": {
  "hide_input": false,
  "kernelspec": {
   "display_name": "Python 3",
   "language": "python",
   "name": "python3"
  },
  "language_info": {
   "codemirror_mode": {
    "name": "ipython",
    "version": 3
   },
   "file_extension": ".py",
   "mimetype": "text/x-python",
   "name": "python",
   "nbconvert_exporter": "python",
   "pygments_lexer": "ipython3",
   "version": "3.8.5"
  },
  "toc": {
   "base_numbering": 1,
   "nav_menu": {},
   "number_sections": true,
   "sideBar": true,
   "skip_h1_title": false,
   "title_cell": "Table of Contents",
   "title_sidebar": "Contents",
   "toc_cell": false,
   "toc_position": {},
   "toc_section_display": true,
   "toc_window_display": false
  },
  "varInspector": {
   "cols": {
    "lenName": 16,
    "lenType": 16,
    "lenVar": 40
   },
   "kernels_config": {
    "python": {
     "delete_cmd_postfix": "",
     "delete_cmd_prefix": "del ",
     "library": "var_list.py",
     "varRefreshCmd": "print(var_dic_list())"
    },
    "r": {
     "delete_cmd_postfix": ") ",
     "delete_cmd_prefix": "rm(",
     "library": "var_list.r",
     "varRefreshCmd": "cat(var_dic_list()) "
    }
   },
   "types_to_exclude": [
    "module",
    "function",
    "builtin_function_or_method",
    "instance",
    "_Feature"
   ],
   "window_display": false
  }
 },
 "nbformat": 4,
 "nbformat_minor": 5
}
