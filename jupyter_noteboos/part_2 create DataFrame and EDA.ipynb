{
 "cells": [
  {
   "cell_type": "code",
   "execution_count": 8,
   "id": "45224912",
   "metadata": {
    "ExecuteTime": {
     "end_time": "2021-04-24T06:12:29.877908Z",
     "start_time": "2021-04-24T06:12:29.867931Z"
    }
   },
   "outputs": [],
   "source": [
    "from pyspark.sql import SparkSession\n",
    "from pyspark.sql import functions as F\n",
    "from pyspark.sql.types import StructType, StringType, StructField, IntegerType, DoubleType"
   ]
  },
  {
   "cell_type": "markdown",
   "id": "9daa4c99",
   "metadata": {},
   "source": [
    "### Подключаемся к серверy\n",
    "\n",
    "```bash\n",
    "ssh 305_koryagin@37.139.32.56 -i ./id_rsa_305_koryagin.txt\n",
    "```"
   ]
  },
  {
   "cell_type": "markdown",
   "id": "29b2fc49",
   "metadata": {},
   "source": [
    "```bash\n",
    "/spark2.4/bin/pyspark \\\n",
    "    --driver-memory 512m \\\n",
    "    --driver-cores 1\n",
    "```"
   ]
  },
  {
   "cell_type": "markdown",
   "id": "26dd70b4",
   "metadata": {},
   "source": [
    "```python\n",
    "from pyspark.sql import SparkSession\n",
    "from pyspark.sql import functions as F\n",
    "from pyspark.sql.types import StructType, StringType, StructField, IntegerType, DoubleType\n",
    "\n",
    "spark = SparkSession.builder.appName(\"gogin_spark\").getOrCreate()\n",
    "```"
   ]
  },
  {
   "cell_type": "markdown",
   "id": "1352c8a0",
   "metadata": {},
   "source": [
    "```python\n",
    "# для начала готовим DataFrame\n",
    "data = spark.read \\\n",
    "    .options(delimiter=',', inferschema=True, header=True) \\\n",
    "    .csv(path=\"input_csv_for_recommend_system/data.csv\")\n",
    "```"
   ]
  },
  {
   "cell_type": "markdown",
   "id": "268704bc",
   "metadata": {},
   "source": [
    "```python\n",
    "data.printSchema()\n",
    "```\n",
    "\n",
    "```bash\n",
    "root\n",
    " |-- sale_date_date: string (nullable = true)\n",
    " |-- contact_id: string (nullable = true)\n",
    " |-- shop_id: integer (nullable = true)\n",
    " |-- product_id: integer (nullable = true)\n",
    " |-- name: string (nullable = true)\n",
    " |-- product_sub_category_id: string (nullable = true)\n",
    " |-- product_category_id: string (nullable = true)\n",
    " |-- brand_id: string (nullable = true)\n",
    " |-- quantity: string (nullable = true)\n",
    " ```"
   ]
  },
  {
   "cell_type": "markdown",
   "id": "7c70b0fa",
   "metadata": {},
   "source": [
    "```python\n",
    "# Посмотрим число пропусков в каждом столбце.\n",
    "for col in data.columns:\n",
    "    print(col, \"\\t\", \"with null values: \", data.filter(data[col].isNull()).count())\n",
    "```\n",
    "\n",
    "```bash\n",
    "...\n",
    "('sale_date_date', 'count of null values = ', 2)\n",
    "('contact_id', 'count of null values = ', 2)\n",
    "('shop_id', 'count of null values = ', 3)\n",
    "('product_id', 'count of null values = ', 3)\n",
    "('name', 'count of null values = ', 3)\n",
    "('product_sub_category_id', 'count of null values = ', 3)\n",
    "('product_category_id', 'count of null values = ', 3)\n",
    "('brand_id', 'count of null values = ', 3)\n",
    "('quantity', 'count of null values = ', 3)\n",
    "```"
   ]
  },
  {
   "cell_type": "markdown",
   "id": "b89fe0a0",
   "metadata": {
    "ExecuteTime": {
     "end_time": "2021-04-24T06:16:45.009374Z",
     "start_time": "2021-04-24T06:16:44.989427Z"
    }
   },
   "source": [
    "```python\n",
    "# Посмотрим число -1 в каждом столбце.\n",
    "for col in data.columns:\n",
    "    print(col, \"count of -1 values = \", data.filter(data[col] == '-1').count())\n",
    "```\n",
    "\n",
    "```bash\n",
    "...\n",
    "('sale_date_date', 'count of -1 values = ', 0)\n",
    "('contact_id', 'count of -1 values = ', 0)\n",
    "('shop_id', 'count of -1 values = ', 0)\n",
    "('product_id', 'count of -1 values = ', 193)\n",
    "('name', 'count of -1 values = ', 0)\n",
    "('product_sub_category_id', 'count of -1 values = ', 647720)\n",
    "('product_category_id', 'count of -1 values = ', 649395)\n",
    "('brand_id', 'count of -1 values = ', 16169893)\n",
    "('quantity', 'count of -1 values = ', 13874)\n",
    "```"
   ]
  },
  {
   "cell_type": "markdown",
   "id": "c0d3d5b2",
   "metadata": {},
   "source": [
    "```\n",
    ">>> data.printSchema()\n",
    "root\n",
    " |-- sale_date_date: string (nullable = true)\n",
    " |-- contact_id: string (nullable = true)\n",
    "     |-- shop_id: integer (nullable = true)\n",
    "     |-- product_id: integer (nullable = true)\n",
    " |-- name: string (nullable = true)\n",
    " |-- product_sub_category_id: string (nullable = true)\n",
    " |-- product_category_id: string (nullable = true)\n",
    " |-- brand_id: string (nullable = true)\n",
    " |-- quantity: string (nullable = true)\n",
    "```"
   ]
  },
  {
   "cell_type": "code",
   "execution_count": 6,
   "id": "37612bf4",
   "metadata": {
    "ExecuteTime": {
     "end_time": "2021-04-24T06:11:22.218979Z",
     "start_time": "2021-04-24T06:11:22.194080Z"
    }
   },
   "outputs": [
    {
     "ename": "AttributeError",
     "evalue": "'list' object has no attribute 'withColumn'",
     "output_type": "error",
     "traceback": [
      "\u001b[1;31m---------------------------------------------------------------------------\u001b[0m",
      "\u001b[1;31mAttributeError\u001b[0m                            Traceback (most recent call last)",
      "\u001b[1;32m<ipython-input-6-193fd4305095>\u001b[0m in \u001b[0;36m<module>\u001b[1;34m\u001b[0m\n\u001b[0;32m      2\u001b[0m \u001b[1;33m\u001b[0m\u001b[0m\n\u001b[0;32m      3\u001b[0m \u001b[1;31m# data =\u001b[0m\u001b[1;33m\u001b[0m\u001b[1;33m\u001b[0m\u001b[1;33m\u001b[0m\u001b[0m\n\u001b[1;32m----> 4\u001b[1;33m \u001b[0mdata\u001b[0m\u001b[0;31m \u001b[0m\u001b[0;31m\\\u001b[0m\u001b[1;33m\u001b[0m\u001b[1;33m\u001b[0m\u001b[0m\n\u001b[0m\u001b[0;32m      5\u001b[0m     \u001b[1;33m.\u001b[0m\u001b[0mwithColumn\u001b[0m\u001b[1;33m(\u001b[0m\u001b[1;34m\"brand_id\"\u001b[0m\u001b[1;33m,\u001b[0m \u001b[0mdata\u001b[0m\u001b[1;33m[\u001b[0m\u001b[1;34m\"brand_id\"\u001b[0m\u001b[1;33m]\u001b[0m\u001b[1;33m.\u001b[0m\u001b[0mcast\u001b[0m\u001b[1;33m(\u001b[0m\u001b[0mIntegerType\u001b[0m\u001b[1;33m(\u001b[0m\u001b[1;33m)\u001b[0m\u001b[1;33m)\u001b[0m\u001b[1;33m)\u001b[0m\u001b[0;31m \u001b[0m\u001b[0;31m\\\u001b[0m\u001b[1;33m\u001b[0m\u001b[1;33m\u001b[0m\u001b[0m\n\u001b[0;32m      6\u001b[0m     \u001b[1;33m.\u001b[0m\u001b[0mwithColumn\u001b[0m\u001b[1;33m(\u001b[0m\u001b[1;34m\"product_category_id\"\u001b[0m\u001b[1;33m,\u001b[0m \u001b[0mdata\u001b[0m\u001b[1;33m[\u001b[0m\u001b[1;34m\"brand_id\"\u001b[0m\u001b[1;33m]\u001b[0m\u001b[1;33m.\u001b[0m\u001b[0mcast\u001b[0m\u001b[1;33m(\u001b[0m\u001b[0mIntegerType\u001b[0m\u001b[1;33m(\u001b[0m\u001b[1;33m)\u001b[0m\u001b[1;33m)\u001b[0m\u001b[1;33m)\u001b[0m\u001b[0;31m \u001b[0m\u001b[0;31m\\\u001b[0m\u001b[1;33m\u001b[0m\u001b[1;33m\u001b[0m\u001b[0m\n",
      "\u001b[1;31mAttributeError\u001b[0m: 'list' object has no attribute 'withColumn'"
     ]
    }
   ],
   "source": [
    "# data = \n",
    "data \\\n",
    "    .withColumn(\"brand_id\", data[\"brand_id\"].cast(IntegerType())) \\\n",
    "    .withColumn(\"product_category_id\", data[\"brand_id\"].cast(IntegerType())) \\\n",
    "    .withColumn(\"product_category_id\", data[\"brand_id\"].cast(IntegerType())) \\\n",
    "    .show()"
   ]
  },
  {
   "cell_type": "code",
   "execution_count": 5,
   "id": "2f62b171",
   "metadata": {
    "ExecuteTime": {
     "end_time": "2021-04-24T06:11:20.331920Z",
     "start_time": "2021-04-24T06:11:20.325936Z"
    }
   },
   "outputs": [],
   "source": [
    "data = []"
   ]
  },
  {
   "cell_type": "code",
   "execution_count": null,
   "id": "69b5a510",
   "metadata": {},
   "outputs": [],
   "source": []
  },
  {
   "cell_type": "code",
   "execution_count": null,
   "id": "c3dfbd38",
   "metadata": {},
   "outputs": [],
   "source": []
  },
  {
   "cell_type": "code",
   "execution_count": null,
   "id": "eb88a335",
   "metadata": {},
   "outputs": [],
   "source": []
  }
 ],
 "metadata": {
  "hide_input": false,
  "kernelspec": {
   "display_name": "Python 3",
   "language": "python",
   "name": "python3"
  },
  "language_info": {
   "codemirror_mode": {
    "name": "ipython",
    "version": 3
   },
   "file_extension": ".py",
   "mimetype": "text/x-python",
   "name": "python",
   "nbconvert_exporter": "python",
   "pygments_lexer": "ipython3",
   "version": "3.8.5"
  },
  "toc": {
   "base_numbering": 1,
   "nav_menu": {},
   "number_sections": true,
   "sideBar": true,
   "skip_h1_title": false,
   "title_cell": "Table of Contents",
   "title_sidebar": "Contents",
   "toc_cell": false,
   "toc_position": {},
   "toc_section_display": true,
   "toc_window_display": false
  },
  "varInspector": {
   "cols": {
    "lenName": 16,
    "lenType": 16,
    "lenVar": 40
   },
   "kernels_config": {
    "python": {
     "delete_cmd_postfix": "",
     "delete_cmd_prefix": "del ",
     "library": "var_list.py",
     "varRefreshCmd": "print(var_dic_list())"
    },
    "r": {
     "delete_cmd_postfix": ") ",
     "delete_cmd_prefix": "rm(",
     "library": "var_list.r",
     "varRefreshCmd": "cat(var_dic_list()) "
    }
   },
   "types_to_exclude": [
    "module",
    "function",
    "builtin_function_or_method",
    "instance",
    "_Feature"
   ],
   "window_display": false
  }
 },
 "nbformat": 4,
 "nbformat_minor": 5
}
