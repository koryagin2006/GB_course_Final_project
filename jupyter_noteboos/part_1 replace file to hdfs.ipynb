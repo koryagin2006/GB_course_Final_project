{
 "cells": [
  {
   "cell_type": "markdown",
   "id": "dafc5245",
   "metadata": {},
   "source": [
    "# Перенос исходного файла на сервер"
   ]
  },
  {
   "cell_type": "markdown",
   "id": "6fead37c",
   "metadata": {},
   "source": [
    "### Скопируем подготовленный файл на удаленный сервер с помощью команды `- scp`.\n",
    "NB! Эта команда запускается на локальном компьютере, а не на удалённом сервере."
   ]
  },
  {
   "cell_type": "markdown",
   "id": "2e750920",
   "metadata": {},
   "source": [
    "```bash\n",
    "cd ./GB_course_Final_project/\n",
    "\n",
    "scp -i id_rsa_305_koryagin.txt \\\n",
    "    -r ./data/netflix_titles_small.csv \\\n",
    "    305_koryagin@37.139.32.56:~/for_stream\n",
    "    \n",
    "ls -l for_stream/\n",
    "```"
   ]
  },
  {
   "cell_type": "code",
   "execution_count": null,
   "id": "12672546",
   "metadata": {},
   "outputs": [],
   "source": []
  },
  {
   "cell_type": "code",
   "execution_count": null,
   "id": "c1baeb63",
   "metadata": {},
   "outputs": [],
   "source": []
  },
  {
   "cell_type": "code",
   "execution_count": null,
   "id": "9f57db64",
   "metadata": {},
   "outputs": [],
   "source": []
  },
  {
   "cell_type": "markdown",
   "id": "c61e4727",
   "metadata": {},
   "source": [
    "### Подключаемся к серверy"
   ]
  },
  {
   "cell_type": "markdown",
   "id": "b75ccbee",
   "metadata": {},
   "source": [
    "```bash\n",
    "ssh 305_koryagin@37.139.32.56 -i ./id_rsa_305_koryagin.txt\n",
    "```"
   ]
  }
 ],
 "metadata": {
  "hide_input": false,
  "kernelspec": {
   "display_name": "Python 3",
   "language": "python",
   "name": "python3"
  },
  "language_info": {
   "codemirror_mode": {
    "name": "ipython",
    "version": 3
   },
   "file_extension": ".py",
   "mimetype": "text/x-python",
   "name": "python",
   "nbconvert_exporter": "python",
   "pygments_lexer": "ipython3",
   "version": "3.8.5"
  },
  "toc": {
   "base_numbering": 1,
   "nav_menu": {},
   "number_sections": true,
   "sideBar": true,
   "skip_h1_title": false,
   "title_cell": "Table of Contents",
   "title_sidebar": "Contents",
   "toc_cell": false,
   "toc_position": {},
   "toc_section_display": true,
   "toc_window_display": false
  },
  "varInspector": {
   "cols": {
    "lenName": 16,
    "lenType": 16,
    "lenVar": 40
   },
   "kernels_config": {
    "python": {
     "delete_cmd_postfix": "",
     "delete_cmd_prefix": "del ",
     "library": "var_list.py",
     "varRefreshCmd": "print(var_dic_list())"
    },
    "r": {
     "delete_cmd_postfix": ") ",
     "delete_cmd_prefix": "rm(",
     "library": "var_list.r",
     "varRefreshCmd": "cat(var_dic_list()) "
    }
   },
   "types_to_exclude": [
    "module",
    "function",
    "builtin_function_or_method",
    "instance",
    "_Feature"
   ],
   "window_display": false
  }
 },
 "nbformat": 4,
 "nbformat_minor": 5
}
