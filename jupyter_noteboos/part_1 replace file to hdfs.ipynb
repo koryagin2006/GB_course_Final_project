{
 "cells": [
  {
   "cell_type": "markdown",
   "id": "1a2a6428",
   "metadata": {},
   "source": [
    "# Перенос исходного файла на сервер"
   ]
  },
  {
   "cell_type": "markdown",
   "id": "77aff193",
   "metadata": {},
   "source": [
    "### Скопируем подготовленный файл на удаленный сервер с помощью команды `- scp`.\n",
    "NB! Эта команда запускается на локальном компьютере, а не на удалённом сервере."
   ]
  },
  {
   "cell_type": "markdown",
   "id": "9c29dfd0",
   "metadata": {},
   "source": [
    "```bash\n",
    "cd ./GB_course_Final_project/\n",
    "\n",
    "scp -i id_rsa_305_koryagin.txt \\\n",
    "    -r ./data/data.csv \\\n",
    "    305_koryagin@37.139.32.56:~/for_recomend_system\n",
    "```\n",
    "\n",
    "<details>\n",
    "    <summary> → вывод консоли TERMINAL</summary>\n",
    "\n",
    "```bash\n",
    "data.csv                                 100% 2223MB   5.0MB/s   07:20\n",
    "```\n",
    "\n",
    "![Title](../images/2021-04-23_224206.jpg)\n",
    "</details>"
   ]
  },
  {
   "cell_type": "markdown",
   "id": "8f4c8b71",
   "metadata": {},
   "source": [
    "### Подключаемся к серверy"
   ]
  },
  {
   "cell_type": "markdown",
   "id": "2901fe47",
   "metadata": {},
   "source": [
    "```bash\n",
    "ssh 305_koryagin@37.139.32.56 -i ./id_rsa_305_koryagin.txt\n",
    "```"
   ]
  },
  {
   "cell_type": "markdown",
   "id": "c9cc21bf",
   "metadata": {},
   "source": [
    "#### Проверяем записанные данные"
   ]
  },
  {
   "cell_type": "markdown",
   "id": "e6be66ea",
   "metadata": {},
   "source": [
    "```bash\n",
    "ls -l for_recomend_system/\n",
    "```\n",
    "\n",
    "<details>\n",
    "    <summary> → вывод консоли TERMINAL</summary>\n",
    "\n",
    "```bash\n",
    "total 2276584\n",
    "-rwx------ 1 305_koryagin 305_koryagin 2331217025 Apr 23 17:33 data.csv\n",
    "```\n",
    "\n",
    "![Title](../images/2021-04-23_224437.jpg)\n",
    "</details>"
   ]
  },
  {
   "cell_type": "markdown",
   "id": "d3fd85e6",
   "metadata": {},
   "source": [
    "#### Создадим папку input_csv_for_stream на HDFS, из которой стрим будет читать файлы и скопируем файл на HDFS"
   ]
  },
  {
   "cell_type": "markdown",
   "id": "b8a85c0f",
   "metadata": {},
   "source": [
    "```bash\n",
    "hdfs dfs -mkdir input_csv_for_recommend_system\n",
    "hdfs dfs -ls\n",
    "```\n",
    "\n",
    "<details>\n",
    "    <summary> → вывод консоли SSH</summary>\n",
    "\n",
    "```bash\n",
    "Found 9 items\n",
    "drwx------   - 305_koryagin 305_koryagin          0 2021-04-03 18:00 .Trash\n",
    "drwxr-xr-x   - 305_koryagin 305_koryagin          0 2021-03-29 17:45 checkpionts\n",
    "drwxr-xr-x   - 305_koryagin 305_koryagin          0 2021-04-04 07:38 checkpoints\n",
    "drwxr-xr-x   - 305_koryagin 305_koryagin          0 2021-04-23 18:06 input_csv_for_recommend_system\n",
    "drwxr-xr-x   - 305_koryagin 305_koryagin          0 2021-04-03 17:13 input_csv_for_stream\n",
    "drwxr-xr-x   - 305_koryagin 305_koryagin          0 2021-04-03 08:59 ml_models\n",
    "drwxr-xr-x   - 305_koryagin 305_koryagin          0 2021-03-21 14:47 my_parquet_checkpoint\n",
    "drwxr-xr-x   - 305_koryagin 305_koryagin          0 2021-03-29 17:54 my_submit_parquet_files\n",
    "drwxr-xr-x   - 305_koryagin 305_koryagin          0 2021-03-21 15:02 netflix_parquet_sink\n",
    "```\n",
    "</details>"
   ]
  },
  {
   "cell_type": "markdown",
   "id": "f40714f7",
   "metadata": {},
   "source": [
    "#### Cкопируем файл на HDFS из папки на локальном сервере"
   ]
  },
  {
   "cell_type": "markdown",
   "id": "155ccfdc",
   "metadata": {},
   "source": [
    "```bash\n",
    "hdfs dfs -put for_recomend_system/data.csv input_csv_for_recommend_system\n",
    "hdfs dfs -ls input_csv_for_recommend_system\n",
    "```\n",
    "\n",
    "<details>\n",
    "    <summary> → вывод консоли SSH</summary>\n",
    "\n",
    "```bash\n",
    "Found 1 items\n",
    "-rw-r--r--   2 305_koryagin 305_koryagin 2331217025 2021-04-23 18:11 input_csv_for_recommend_system/data.csv\n",
    "```\n",
    "</details>"
   ]
  },
  {
   "cell_type": "code",
   "execution_count": null,
   "id": "d5f6be05",
   "metadata": {},
   "outputs": [],
   "source": []
  }
 ],
 "metadata": {
  "hide_input": false,
  "kernelspec": {
   "display_name": "Python 3",
   "language": "python",
   "name": "python3"
  },
  "language_info": {
   "codemirror_mode": {
    "name": "ipython",
    "version": 3
   },
   "file_extension": ".py",
   "mimetype": "text/x-python",
   "name": "python",
   "nbconvert_exporter": "python",
   "pygments_lexer": "ipython3",
   "version": "3.8.5"
  },
  "toc": {
   "base_numbering": 1,
   "nav_menu": {},
   "number_sections": true,
   "sideBar": true,
   "skip_h1_title": false,
   "title_cell": "Table of Contents",
   "title_sidebar": "Contents",
   "toc_cell": false,
   "toc_position": {},
   "toc_section_display": true,
   "toc_window_display": false
  },
  "varInspector": {
   "cols": {
    "lenName": 16,
    "lenType": 16,
    "lenVar": 40
   },
   "kernels_config": {
    "python": {
     "delete_cmd_postfix": "",
     "delete_cmd_prefix": "del ",
     "library": "var_list.py",
     "varRefreshCmd": "print(var_dic_list())"
    },
    "r": {
     "delete_cmd_postfix": ") ",
     "delete_cmd_prefix": "rm(",
     "library": "var_list.r",
     "varRefreshCmd": "cat(var_dic_list()) "
    }
   },
   "types_to_exclude": [
    "module",
    "function",
    "builtin_function_or_method",
    "instance",
    "_Feature"
   ],
   "window_display": false
  }
 },
 "nbformat": 4,
 "nbformat_minor": 5
}
