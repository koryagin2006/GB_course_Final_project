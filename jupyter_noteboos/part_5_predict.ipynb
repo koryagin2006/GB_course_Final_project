{
 "cells": [
  {
   "cell_type": "markdown",
   "id": "8e39d81c",
   "metadata": {},
   "source": [
    "#### Подключаемся к серверy\n",
    "\n",
    "```bash\n",
    "ssh 305_koryagin@37.139.32.56 -i ./id_rsa_305_koryagin.txt\n",
    "```"
   ]
  },
  {
   "cell_type": "markdown",
   "id": "751688ab",
   "metadata": {},
   "source": [
    "#### Запускаем spark"
   ]
  },
  {
   "cell_type": "markdown",
   "id": "59e51358",
   "metadata": {},
   "source": [
    "```python\n",
    "/spark2.4/bin/pyspark\n",
    "\n",
    "from pyspark.shell import sc\n",
    "from pyspark.sql import SparkSession\n",
    "from pyspark.mllib.recommendation import ALS, MatrixFactorizationModel\n",
    "from pyspark.sql import functions as F\n",
    "```"
   ]
  },
  {
   "cell_type": "markdown",
   "id": "fb8a5515",
   "metadata": {},
   "source": [
    "## Загрузка модели"
   ]
  },
  {
   "cell_type": "markdown",
   "id": "f5958ade",
   "metadata": {},
   "source": [
    "```python\n",
    "# Load model\n",
    "model = MatrixFactorizationModel.load(sc, \"ml_models/myCollaborativeFilter\")\n",
    "```"
   ]
  },
  {
   "cell_type": "markdown",
   "id": "e1fc99fb",
   "metadata": {},
   "source": [
    "## Предсказание"
   ]
  },
  {
   "cell_type": "code",
   "execution_count": 2,
   "id": "16a3bd83",
   "metadata": {},
   "outputs": [],
   "source": [
    "def custom_predictions(user_id, num_preds=5):\n",
    "    \"\"\"\n",
    "    Предсказание\n",
    "    :param user_id: id покупателя\n",
    "    :param num_preds: количество рекомендуемых товаров\n",
    "    :return: отсортированный список из рекомендуемых товаров\n",
    "    \"\"\"\n",
    "    return [i.product for i in model.recommendProducts(user=user_id, num=num_preds)]"
   ]
  },
  {
   "cell_type": "markdown",
   "id": "5390ac82",
   "metadata": {},
   "source": [
    "```python\n",
    "user_list = [903455, 983545, 1962163, 795400, 850395]\n",
    "\n",
    "for user in user_list:    \n",
    "    print('for user {} predictions list: {}'.format(user, custom_predictions(user_id=user, num_preds=5)))\n",
    "```\n",
    "\n",
    "<details>\n",
    "    <summary> → вывод консоли SPARK</summary>\n",
    "\n",
    "```python\n",
    "\n",
    "for user 903455 predictions list: [137539, 110629, 41096, 135427, 31212]\n",
    "for user 983545 predictions list: [110629, 41096, 135427, 137539, 46797]\n",
    "for user 1962163 predictions list: [63439, 168308, 130230, 149540, 124837]\n",
    "for user 795400 predictions list: [110629, 41096, 135427, 137539, 46797]\n",
    "for user 850395 predictions list: [110629, 137539, 41096, 135427, 46797]\n",
    "```    \n",
    "</details>"
   ]
  },
  {
   "cell_type": "code",
   "execution_count": null,
   "id": "e1451ad2",
   "metadata": {},
   "outputs": [],
   "source": []
  }
 ],
 "metadata": {
  "kernelspec": {
   "display_name": "Python 3",
   "language": "python",
   "name": "python3"
  },
  "language_info": {
   "codemirror_mode": {
    "name": "ipython",
    "version": 3
   },
   "file_extension": ".py",
   "mimetype": "text/x-python",
   "name": "python",
   "nbconvert_exporter": "python",
   "pygments_lexer": "ipython3",
   "version": "3.8.5"
  }
 },
 "nbformat": 4,
 "nbformat_minor": 5
}
