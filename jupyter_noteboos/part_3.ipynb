{
 "cells": [
  {
   "cell_type": "markdown",
   "id": "9daa4c99",
   "metadata": {},
   "source": [
    "#### Подключаемся к серверy\n",
    "\n",
    "```bash\n",
    "ssh 305_koryagin@37.139.32.56 -i ./id_rsa_305_koryagin.txt\n",
    "```"
   ]
  },
  {
   "cell_type": "markdown",
   "id": "db8087cd",
   "metadata": {},
   "source": [
    "#### Запускаем spark"
   ]
  },
  {
   "cell_type": "markdown",
   "id": "370ef572",
   "metadata": {},
   "source": [
    "```bash\n",
    "/spark2.4/bin/pyspark\n",
    "```"
   ]
  },
  {
   "cell_type": "markdown",
   "id": "7faa23ae",
   "metadata": {},
   "source": [
    "```python\n",
    "from pyspark.sql import SparkSession\n",
    "from pyspark.sql import functions as F\n",
    "\n",
    "spark = SparkSession.builder.appName(\"gogin_spark\").getOrCreate()\n",
    "```"
   ]
  },
  {
   "cell_type": "markdown",
   "id": "f7243eb5",
   "metadata": {},
   "source": [
    "## Создание DataFrame"
   ]
  },
  {
   "cell_type": "markdown",
   "id": "3a1979a7",
   "metadata": {},
   "source": [
    "```python\n",
    "# для начала готовим DataFrame\n",
    "data = spark.read.parquet(\"input_csv_for_recommend_system/data.parquet\")\n",
    "data.show(n=5, truncate=True)\n",
    "```\n",
    "\n",
    "<details>\n",
    "    <summary> → вывод консоли SPARK</summary>\n",
    "    \n",
    "![Title](../images/2021-04-25_125511.jpg)\n",
    "\n",
    "</details>"
   ]
  },
  {
   "cell_type": "markdown",
   "id": "5f6c7b7a",
   "metadata": {},
   "source": [
    "## GroupBy"
   ]
  },
  {
   "cell_type": "markdown",
   "id": "17ea1f6c",
   "metadata": {},
   "source": [
    "#### Посмотрим диапазон дат"
   ]
  },
  {
   "cell_type": "markdown",
   "id": "0d865c65",
   "metadata": {
    "ExecuteTime": {
     "end_time": "2021-04-25T14:49:38.537311Z",
     "start_time": "2021-04-25T14:49:38.313663Z"
    }
   },
   "source": [
    "```python\n",
    "data.select(F.min('sale_date_date').alias('first_date'), \n",
    "            F.max('sale_date_date').alias('last_date'), \n",
    "            F.datediff(F.max('sale_date_date'), F.min('sale_date_date')).alias('datediff')) \\\n",
    "    .show(truncate=False)\n",
    "```\n",
    "\n",
    "```bash\n",
    "+----------+----------+--------+\n",
    "|first_date|last_date |datediff|\n",
    "+----------+----------+--------+\n",
    "|2018-01-01|2018-12-09|342     |\n",
    "+----------+----------+--------+\n",
    "```"
   ]
  },
  {
   "cell_type": "markdown",
   "id": "fc82f0b9",
   "metadata": {},
   "source": [
    "#### Разряженность матрицы"
   ]
  },
  {
   "cell_type": "markdown",
   "id": "b56b8a4f",
   "metadata": {},
   "source": [
    "```python\n",
    "n_users = data.select(F.countDistinct(col='contact_id')).collect()[0][0]\n",
    "n_items = data.select(F.countDistinct(col='product_id')).collect()[0][0]\n",
    "n_interactions = data.count()\n",
    "```"
   ]
  },
  {
   "cell_type": "code",
   "execution_count": 8,
   "id": "cd587c0d",
   "metadata": {
    "ExecuteTime": {
     "end_time": "2021-04-25T15:08:11.342675Z",
     "start_time": "2021-04-25T15:08:11.331703Z"
    }
   },
   "outputs": [
    {
     "name": "stdout",
     "output_type": "stream",
     "text": [
      "Разряженность матрицы = 0.0333%\n"
     ]
    }
   ],
   "source": [
    "n_users, n_items, n_interactions = 1642379, 36549, 20000000\n",
    "print(f'Разряженность матрицы = {round(n_interactions / (n_users * n_items), 6) * 100}%')"
   ]
  },
  {
   "cell_type": "markdown",
   "id": "3c9f6dcb",
   "metadata": {},
   "source": [
    "#### Популярность"
   ]
  },
  {
   "cell_type": "markdown",
   "id": "57972aab",
   "metadata": {
    "ExecuteTime": {
     "end_time": "2021-04-25T15:18:48.104888Z",
     "start_time": "2021-04-25T15:18:47.631728Z"
    }
   },
   "source": [
    "```python\n",
    "# популярность - группируем товары по сумме товаров\n",
    "popularity_by_items = data \\\n",
    "    .groupBy(\"product_id\").sum(\"quantity\") \\\n",
    "    .withColumnRenamed(existing='sum(quantity)', new='total_quantity')\n",
    "\n",
    "popularity_by_items.select('total_quantity').describe().show(truncate=False)\n",
    "```\n",
    "```bash\n",
    "+-------+-----------------+\n",
    "|summary|total_quantity   |\n",
    "+-------+-----------------+\n",
    "|count  |36549            |\n",
    "|mean   |2483.608399971266|\n",
    "|stddev |64484.54503307139|\n",
    "|min    |-5741.0          |\n",
    "|max    |5681946.0        |\n",
    "+-------+-----------------+\n",
    "```"
   ]
  },
  {
   "cell_type": "markdown",
   "id": "b2175718",
   "metadata": {},
   "source": [
    "```python\n",
    "popularity_by_items \\\n",
    "    .orderBy('total_quantity', ascending=False) \\\n",
    "    .withColumn(colName=\"total_quantity\", col=popularity_by_items[\"total_quantity\"].cast(IntegerType(), )) \\\n",
    "    .show(n=5)\n",
    "```\n",
    "```bash\n",
    "+----------+--------------+\n",
    "|product_id|total_quantity|\n",
    "+----------+--------------+\n",
    "|     93554|       5681946|\n",
    "|     33645|       5434930|\n",
    "|    141757|       4739478|\n",
    "|     38560|       3937244|\n",
    "|    106053|       2939204|\n",
    "+----------+--------------+\n",
    "only showing top 5 rows\n",
    "```"
   ]
  },
  {
   "cell_type": "markdown",
   "id": "d0a7a39c",
   "metadata": {},
   "source": [
    "---"
   ]
  },
  {
   "cell_type": "markdown",
   "id": "0de8b70b",
   "metadata": {},
   "source": [
    "```python\n",
    "# популярность - группируем пользователей по сумме товаров\n",
    "\n",
    "popularity_by_users = data \\\n",
    "    .groupBy(\"contact_id\").sum(\"quantity\") \\\n",
    "    .withColumnRenamed(existing='sum(quantity)', new='total_quantity')\n",
    "\n",
    "popularity_by_users.select('total_quantity').describe().show(truncate=False)\n",
    "```\n",
    "```bash\n",
    "+-------+------------------+\n",
    "|summary|total_quantity    |\n",
    "+-------+------------------+\n",
    "|count  |1642379           |\n",
    "|mean   |55.26946180543576 |\n",
    "|stddev |440.10752485241625|\n",
    "|min    |-6.0              |\n",
    "|max    |74439.63600009121 |\n",
    "+-------+------------------+\n",
    "```"
   ]
  },
  {
   "cell_type": "markdown",
   "id": "d8eabb73",
   "metadata": {},
   "source": [
    "```python\n",
    "popularity_by_users.orderBy('total_quantity', ascending=False) \\\n",
    "    .withColumn(colName=\"total_quantity\", col=popularity_by_users[\"total_quantity\"].cast(IntegerType(), )) \\\n",
    "    .show(n=5)\n",
    "```\n",
    "```bash\n",
    "+----------+--------------+\n",
    "|contact_id|total_quantity|\n",
    "+----------+--------------+\n",
    "|    903455|         74439|\n",
    "|    983545|         51697|\n",
    "|   1962163|         48000|\n",
    "|    795400|         45384|\n",
    "|    850395|         45330|\n",
    "+----------+--------------+\n",
    "```"
   ]
  },
  {
   "cell_type": "markdown",
   "id": "2d42ee9b",
   "metadata": {},
   "source": [
    "## Train-test split\n",
    "В рекомендательных системах корректнее использовать train-test split по времени, а не случайно.\n",
    "Я возьму последние 3 недели в качестве теста"
   ]
  },
  {
   "cell_type": "markdown",
   "id": "93100e39",
   "metadata": {},
   "source": [
    "```python\n",
    "# Посмотрим диапазон неделей\n",
    "data.select(F.min('week_of_year'), F.max('week_of_year'),\n",
    "            (F.max('week_of_year') - F.min('week_of_year')).alias('week_diff')) \\\n",
    "    .show(truncate=False)\n",
    "```\n",
    "```bash\n",
    "+-----------------+-----------------+---------+\n",
    "|min(week_of_year)|max(week_of_year)|week_diff|\n",
    "+-----------------+-----------------+---------+\n",
    "|1                |49               |48       |\n",
    "+-----------------+-----------------+---------+\n",
    "```"
   ]
  },
  {
   "cell_type": "markdown",
   "id": "7e60173a",
   "metadata": {
    "ExecuteTime": {
     "end_time": "2021-04-25T15:53:16.133093Z",
     "start_time": "2021-04-25T15:53:16.054979Z"
    }
   },
   "source": [
    "```python\n",
    "def train_test_split_by_week(df, week_col_name, test_size_weeks):\n",
    "    \"\"\"\n",
    "    Разделение на train и test по неделям\n",
    "    :param df: исходный датафрейм\n",
    "    :param week_col_name: название колонки с номерами недели в году\n",
    "    :param test_size_weeks: число недель для теста\n",
    "    :return: 2 датасета\n",
    "    \"\"\"\n",
    "    threshold_week = int(data.select(F.max(week_col_name)).collect()[0][0]) - test_size_weeks\n",
    "    train = df.filter(F.col(week_col_name) < threshold_week)\n",
    "    test = df.filter(F.col(week_col_name) >= threshold_week)\n",
    "    return train, test\n",
    "\n",
    "\n",
    "# Разделим набор данных на тренировочную и тестовую выборки\n",
    "data_train, data_test = train_test_split_by_week(df=data, week_col_name='week_of_year', test_size_weeks=3)\n",
    "```"
   ]
  },
  {
   "cell_type": "code",
   "execution_count": null,
   "id": "2271409a",
   "metadata": {},
   "outputs": [],
   "source": []
  }
 ],
 "metadata": {
  "hide_input": false,
  "kernelspec": {
   "display_name": "Python 3",
   "language": "python",
   "name": "python3"
  },
  "language_info": {
   "codemirror_mode": {
    "name": "ipython",
    "version": 3
   },
   "file_extension": ".py",
   "mimetype": "text/x-python",
   "name": "python",
   "nbconvert_exporter": "python",
   "pygments_lexer": "ipython3",
   "version": "3.8.5"
  },
  "toc": {
   "base_numbering": 1,
   "nav_menu": {},
   "number_sections": true,
   "sideBar": true,
   "skip_h1_title": false,
   "title_cell": "Table of Contents",
   "title_sidebar": "Contents",
   "toc_cell": false,
   "toc_position": {},
   "toc_section_display": true,
   "toc_window_display": false
  },
  "varInspector": {
   "cols": {
    "lenName": 16,
    "lenType": 16,
    "lenVar": 40
   },
   "kernels_config": {
    "python": {
     "delete_cmd_postfix": "",
     "delete_cmd_prefix": "del ",
     "library": "var_list.py",
     "varRefreshCmd": "print(var_dic_list())"
    },
    "r": {
     "delete_cmd_postfix": ") ",
     "delete_cmd_prefix": "rm(",
     "library": "var_list.r",
     "varRefreshCmd": "cat(var_dic_list()) "
    }
   },
   "types_to_exclude": [
    "module",
    "function",
    "builtin_function_or_method",
    "instance",
    "_Feature"
   ],
   "window_display": false
  }
 },
 "nbformat": 4,
 "nbformat_minor": 5
}
