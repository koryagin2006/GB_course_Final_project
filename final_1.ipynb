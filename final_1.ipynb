{
 "cells": [
  {
   "cell_type": "markdown",
   "id": "b04a4090",
   "metadata": {},
   "source": [
    "#### Импорт библиотек"
   ]
  },
  {
   "cell_type": "code",
   "execution_count": 1,
   "id": "5e58868b",
   "metadata": {
    "ExecuteTime": {
     "end_time": "2021-04-22T15:57:19.403290Z",
     "start_time": "2021-04-22T15:57:17.916056Z"
    }
   },
   "outputs": [],
   "source": [
    "import pandas as pd"
   ]
  },
  {
   "cell_type": "markdown",
   "id": "5919c3a0",
   "metadata": {},
   "source": [
    "#### Импорт данных"
   ]
  },
  {
   "cell_type": "code",
   "execution_count": 2,
   "id": "ceb69481",
   "metadata": {
    "ExecuteTime": {
     "end_time": "2021-04-23T15:36:07.560088Z",
     "start_time": "2021-04-23T15:32:02.796326Z"
    }
   },
   "outputs": [
    {
     "name": "stderr",
     "output_type": "stream",
     "text": [
      "C:\\Users\\carne\\Anaconda3\\lib\\site-packages\\IPython\\core\\interactiveshell.py:3165: DtypeWarning: Columns (1) have mixed types.Specify dtype option on import or set low_memory=False.\n",
      "  has_raised = await self.run_ast_nodes(code_ast.body, cell_name,\n"
     ]
    }
   ],
   "source": [
    "data = pd.read_csv(filepath_or_buffer='./data/data.csv', low_memory=True)"
   ]
  },
  {
   "cell_type": "code",
   "execution_count": 3,
   "id": "46d4eff9",
   "metadata": {
    "ExecuteTime": {
     "end_time": "2021-04-23T15:47:46.325935Z",
     "start_time": "2021-04-23T15:47:46.306986Z"
    }
   },
   "outputs": [
    {
     "name": "stdout",
     "output_type": "stream",
     "text": [
      "<class 'pandas.core.frame.DataFrame'>\n",
      "RangeIndex: 20000003 entries, 0 to 20000002\n",
      "Columns: 9 entries, sale_date_date to quantity\n",
      "dtypes: float64(5), object(4)\n",
      "memory usage: 1.3+ GB\n"
     ]
    }
   ],
   "source": [
    "data.info(verbose=False)"
   ]
  },
  {
   "cell_type": "code",
   "execution_count": 4,
   "id": "9205d3be",
   "metadata": {
    "ExecuteTime": {
     "end_time": "2021-04-23T16:17:13.314369Z",
     "start_time": "2021-04-23T16:17:13.247665Z"
    }
   },
   "outputs": [
    {
     "data": {
      "text/html": [
       "<div>\n",
       "<style scoped>\n",
       "    .dataframe tbody tr th:only-of-type {\n",
       "        vertical-align: middle;\n",
       "    }\n",
       "\n",
       "    .dataframe tbody tr th {\n",
       "        vertical-align: top;\n",
       "    }\n",
       "\n",
       "    .dataframe thead th {\n",
       "        text-align: right;\n",
       "    }\n",
       "</style>\n",
       "<table border=\"1\" class=\"dataframe\">\n",
       "  <thead>\n",
       "    <tr style=\"text-align: right;\">\n",
       "      <th></th>\n",
       "      <th>sale_date_date</th>\n",
       "      <th>contact_id</th>\n",
       "      <th>shop_id</th>\n",
       "      <th>product_id</th>\n",
       "      <th>name</th>\n",
       "      <th>product_sub_category_id</th>\n",
       "      <th>product_category_id</th>\n",
       "      <th>brand_id</th>\n",
       "      <th>quantity</th>\n",
       "    </tr>\n",
       "  </thead>\n",
       "  <tbody>\n",
       "    <tr>\n",
       "      <th>0</th>\n",
       "      <td>2018-12-07</td>\n",
       "      <td>1260627</td>\n",
       "      <td>1455.0</td>\n",
       "      <td>168308.0</td>\n",
       "      <td>(197312) Пакет-майка 25см х 45см</td>\n",
       "      <td>906.0</td>\n",
       "      <td>205.0</td>\n",
       "      <td>-1.0</td>\n",
       "      <td>1,00</td>\n",
       "    </tr>\n",
       "    <tr>\n",
       "      <th>1</th>\n",
       "      <td>2018-12-07</td>\n",
       "      <td>198287</td>\n",
       "      <td>279.0</td>\n",
       "      <td>134832.0</td>\n",
       "      <td>(62448) Перекись водорода р-р наружн. 3% фл.по...</td>\n",
       "      <td>404.0</td>\n",
       "      <td>93.0</td>\n",
       "      <td>-1.0</td>\n",
       "      <td>1,00</td>\n",
       "    </tr>\n",
       "    <tr>\n",
       "      <th>2</th>\n",
       "      <td>2018-12-07</td>\n",
       "      <td>2418385</td>\n",
       "      <td>848.0</td>\n",
       "      <td>101384.0</td>\n",
       "      <td>(72183) Салициловая кислота р-р спирт 2% фл 40...</td>\n",
       "      <td>404.0</td>\n",
       "      <td>93.0</td>\n",
       "      <td>-1.0</td>\n",
       "      <td>1,00</td>\n",
       "    </tr>\n",
       "  </tbody>\n",
       "</table>\n",
       "</div>"
      ],
      "text/plain": [
       "  sale_date_date contact_id  shop_id  product_id  \\\n",
       "0     2018-12-07    1260627   1455.0    168308.0   \n",
       "1     2018-12-07     198287    279.0    134832.0   \n",
       "2     2018-12-07    2418385    848.0    101384.0   \n",
       "\n",
       "                                                name  product_sub_category_id  \\\n",
       "0                   (197312) Пакет-майка 25см х 45см                    906.0   \n",
       "1  (62448) Перекись водорода р-р наружн. 3% фл.по...                    404.0   \n",
       "2  (72183) Салициловая кислота р-р спирт 2% фл 40...                    404.0   \n",
       "\n",
       "   product_category_id  brand_id quantity  \n",
       "0                205.0      -1.0     1,00  \n",
       "1                 93.0      -1.0     1,00  \n",
       "2                 93.0      -1.0     1,00  "
      ]
     },
     "execution_count": 4,
     "metadata": {},
     "output_type": "execute_result"
    }
   ],
   "source": [
    "data.head(n=3)"
   ]
  },
  {
   "cell_type": "markdown",
   "id": "1bfb4094",
   "metadata": {},
   "source": [
    "#### Преобразование"
   ]
  },
  {
   "cell_type": "code",
   "execution_count": 5,
   "id": "44227ab7",
   "metadata": {
    "ExecuteTime": {
     "end_time": "2021-04-23T16:17:41.846822Z",
     "start_time": "2021-04-23T16:17:41.808933Z"
    }
   },
   "outputs": [
    {
     "data": {
      "text/html": [
       "<div>\n",
       "<style scoped>\n",
       "    .dataframe tbody tr th:only-of-type {\n",
       "        vertical-align: middle;\n",
       "    }\n",
       "\n",
       "    .dataframe tbody tr th {\n",
       "        vertical-align: top;\n",
       "    }\n",
       "\n",
       "    .dataframe thead th {\n",
       "        text-align: right;\n",
       "    }\n",
       "</style>\n",
       "<table border=\"1\" class=\"dataframe\">\n",
       "  <thead>\n",
       "    <tr style=\"text-align: right;\">\n",
       "      <th></th>\n",
       "      <th>0</th>\n",
       "    </tr>\n",
       "  </thead>\n",
       "  <tbody>\n",
       "    <tr>\n",
       "      <th>sale_date_date</th>\n",
       "      <td>object</td>\n",
       "    </tr>\n",
       "    <tr>\n",
       "      <th>contact_id</th>\n",
       "      <td>object</td>\n",
       "    </tr>\n",
       "    <tr>\n",
       "      <th>name</th>\n",
       "      <td>object</td>\n",
       "    </tr>\n",
       "    <tr>\n",
       "      <th>quantity</th>\n",
       "      <td>object</td>\n",
       "    </tr>\n",
       "    <tr>\n",
       "      <th>shop_id</th>\n",
       "      <td>float64</td>\n",
       "    </tr>\n",
       "    <tr>\n",
       "      <th>product_id</th>\n",
       "      <td>float64</td>\n",
       "    </tr>\n",
       "    <tr>\n",
       "      <th>product_sub_category_id</th>\n",
       "      <td>float64</td>\n",
       "    </tr>\n",
       "    <tr>\n",
       "      <th>product_category_id</th>\n",
       "      <td>float64</td>\n",
       "    </tr>\n",
       "    <tr>\n",
       "      <th>brand_id</th>\n",
       "      <td>float64</td>\n",
       "    </tr>\n",
       "  </tbody>\n",
       "</table>\n",
       "</div>"
      ],
      "text/plain": [
       "                               0\n",
       "sale_date_date            object\n",
       "contact_id                object\n",
       "name                      object\n",
       "quantity                  object\n",
       "shop_id                  float64\n",
       "product_id               float64\n",
       "product_sub_category_id  float64\n",
       "product_category_id      float64\n",
       "brand_id                 float64"
      ]
     },
     "execution_count": 5,
     "metadata": {},
     "output_type": "execute_result"
    }
   ],
   "source": [
    "pd.DataFrame(data.dtypes).sort_values(by=0, ascending=False)"
   ]
  },
  {
   "cell_type": "code",
   "execution_count": 77,
   "id": "6ddffebc",
   "metadata": {
    "ExecuteTime": {
     "end_time": "2021-04-23T16:05:57.063405Z",
     "start_time": "2021-04-23T16:05:57.046485Z"
    }
   },
   "outputs": [],
   "source": [
    "# Преобразование в float64 contact_id\n",
    "\n",
    "data['contact_id'] = pd.to_numeric(data['contact_id'], errors='coerce')"
   ]
  },
  {
   "cell_type": "code",
   "execution_count": 11,
   "id": "709aa6fa",
   "metadata": {},
   "outputs": [
    {
     "data": {
      "text/html": [
       "<div>\n",
       "<style scoped>\n",
       "    .dataframe tbody tr th:only-of-type {\n",
       "        vertical-align: middle;\n",
       "    }\n",
       "\n",
       "    .dataframe tbody tr th {\n",
       "        vertical-align: top;\n",
       "    }\n",
       "\n",
       "    .dataframe thead th {\n",
       "        text-align: right;\n",
       "    }\n",
       "</style>\n",
       "<table border=\"1\" class=\"dataframe\">\n",
       "  <thead>\n",
       "    <tr style=\"text-align: right;\">\n",
       "      <th></th>\n",
       "      <th>sale_date_date</th>\n",
       "      <th>contact_id</th>\n",
       "      <th>shop_id</th>\n",
       "      <th>product_id</th>\n",
       "      <th>name</th>\n",
       "      <th>product_sub_category_id</th>\n",
       "      <th>product_category_id</th>\n",
       "      <th>brand_id</th>\n",
       "      <th>quantity</th>\n",
       "    </tr>\n",
       "  </thead>\n",
       "  <tbody>\n",
       "    <tr>\n",
       "      <th>20000001</th>\n",
       "      <td>(затронуто стр</td>\n",
       "      <td>к: 20000000</td>\n",
       "      <td>NaN</td>\n",
       "      <td>NaN</td>\n",
       "      <td>NaN</td>\n",
       "      <td>NaN</td>\n",
       "      <td>NaN</td>\n",
       "      <td>NaN</td>\n",
       "      <td>NaN</td>\n",
       "    </tr>\n",
       "    <tr>\n",
       "      <th>6707655</th>\n",
       "      <td>2018-01-01</td>\n",
       "      <td>1942268</td>\n",
       "      <td>1530.0</td>\n",
       "      <td>90696.0</td>\n",
       "      <td>(42985) Физиотенз таб.п.п.о.0,2мг №14</td>\n",
       "      <td>738.0</td>\n",
       "      <td>170.0</td>\n",
       "      <td>-1.0</td>\n",
       "      <td>1.00</td>\n",
       "    </tr>\n",
       "    <tr>\n",
       "      <th>6707656</th>\n",
       "      <td>2018-01-01</td>\n",
       "      <td>1918613</td>\n",
       "      <td>1494.0</td>\n",
       "      <td>160125.0</td>\n",
       "      <td>(144480) Линза контактная Acuvue 1-DAY TruEye ...</td>\n",
       "      <td>814.0</td>\n",
       "      <td>183.0</td>\n",
       "      <td>2550.0</td>\n",
       "      <td>1.00</td>\n",
       "    </tr>\n",
       "    <tr>\n",
       "      <th>6686724</th>\n",
       "      <td>2018-01-01</td>\n",
       "      <td>848213</td>\n",
       "      <td>839.0</td>\n",
       "      <td>110399.0</td>\n",
       "      <td>(96723) Ацетилсалициловая кислота тб 500мг N20...</td>\n",
       "      <td>696.0</td>\n",
       "      <td>162.0</td>\n",
       "      <td>-1.0</td>\n",
       "      <td>1.00</td>\n",
       "    </tr>\n",
       "    <tr>\n",
       "      <th>6686723</th>\n",
       "      <td>2018-01-01</td>\n",
       "      <td>848133</td>\n",
       "      <td>839.0</td>\n",
       "      <td>94106.0</td>\n",
       "      <td>(63765) Бахилы низкие в индив. упаковке №2 (пара)</td>\n",
       "      <td>414.0</td>\n",
       "      <td>97.0</td>\n",
       "      <td>-1.0</td>\n",
       "      <td>1.00</td>\n",
       "    </tr>\n",
       "  </tbody>\n",
       "</table>\n",
       "</div>"
      ],
      "text/plain": [
       "          sale_date_date   contact_id  shop_id  product_id  \\\n",
       "20000001  (затронуто стр  к: 20000000      NaN         NaN   \n",
       "6707655       2018-01-01      1942268   1530.0     90696.0   \n",
       "6707656       2018-01-01      1918613   1494.0    160125.0   \n",
       "6686724       2018-01-01       848213    839.0    110399.0   \n",
       "6686723       2018-01-01       848133    839.0     94106.0   \n",
       "\n",
       "                                                       name  \\\n",
       "20000001                                                NaN   \n",
       "6707655               (42985) Физиотенз таб.п.п.о.0,2мг №14   \n",
       "6707656   (144480) Линза контактная Acuvue 1-DAY TruEye ...   \n",
       "6686724   (96723) Ацетилсалициловая кислота тб 500мг N20...   \n",
       "6686723   (63765) Бахилы низкие в индив. упаковке №2 (пара)   \n",
       "\n",
       "          product_sub_category_id  product_category_id  brand_id quantity  \n",
       "20000001                      NaN                  NaN       NaN      NaN  \n",
       "6707655                     738.0                170.0      -1.0     1.00  \n",
       "6707656                     814.0                183.0    2550.0     1.00  \n",
       "6686724                     696.0                162.0      -1.0     1.00  \n",
       "6686723                     414.0                 97.0      -1.0     1.00  "
      ]
     },
     "execution_count": 11,
     "metadata": {},
     "output_type": "execute_result"
    }
   ],
   "source": [
    "data \\\n",
    "    .sort_values(by='sale_date_date') \\\n",
    "    .head(n=5)"
   ]
  },
  {
   "cell_type": "code",
   "execution_count": 18,
   "id": "7f907674",
   "metadata": {},
   "outputs": [],
   "source": [
    "# data.drop([20000000, 20000001, 20000002], axis=0)\n",
    "\n",
    "# MemoryError: Unable to allocate 610. MiB for an array with shape (4, 20000003) and data type object"
   ]
  },
  {
   "cell_type": "markdown",
   "id": "24fb314f",
   "metadata": {},
   "source": [
    "Слишком мало памяти, чтобы сохранить нормально даже parquet"
   ]
  },
  {
   "cell_type": "code",
   "execution_count": 8,
   "id": "10bfb2a3",
   "metadata": {
    "ExecuteTime": {
     "end_time": "2021-04-23T16:17:30.722787Z",
     "start_time": "2021-04-23T16:17:23.299695Z"
    }
   },
   "outputs": [],
   "source": [
    "# data['quantity'] = data['quantity'].str.replace(pat=',', repl='.', regex=False)"
   ]
  },
  {
   "cell_type": "code",
   "execution_count": null,
   "id": "f45846a0",
   "metadata": {},
   "outputs": [],
   "source": []
  },
  {
   "cell_type": "code",
   "execution_count": null,
   "id": "2221ae66",
   "metadata": {
    "ExecuteTime": {
     "end_time": "2021-04-23T15:52:51.380526Z",
     "start_time": "2021-04-23T15:52:51.362604Z"
    }
   },
   "outputs": [],
   "source": []
  },
  {
   "cell_type": "code",
   "execution_count": 56,
   "id": "564e9dc5",
   "metadata": {
    "ExecuteTime": {
     "end_time": "2021-04-23T15:56:09.759977Z",
     "start_time": "2021-04-23T15:56:09.030170Z"
    }
   },
   "outputs": [
    {
     "data": {
      "text/plain": [
       "1631"
      ]
     },
     "execution_count": 56,
     "metadata": {},
     "output_type": "execute_result"
    }
   ],
   "source": [
    "# data.brand_id.nunique()"
   ]
  },
  {
   "cell_type": "code",
   "execution_count": null,
   "id": "54f2058c",
   "metadata": {},
   "outputs": [],
   "source": []
  },
  {
   "cell_type": "code",
   "execution_count": null,
   "id": "9aab96d3",
   "metadata": {},
   "outputs": [],
   "source": []
  },
  {
   "cell_type": "markdown",
   "id": "ca749368",
   "metadata": {},
   "source": [
    "#### Пересохранение в `.parquet` для уменьшения размера файла"
   ]
  },
  {
   "cell_type": "code",
   "execution_count": 15,
   "id": "16ba11c5",
   "metadata": {
    "ExecuteTime": {
     "end_time": "2021-04-23T15:43:29.897663Z",
     "start_time": "2021-04-23T15:43:29.830864Z"
    }
   },
   "outputs": [],
   "source": [
    "# data.to_parquet(path='./data/data.parquet')"
   ]
  }
 ],
 "metadata": {
  "hide_input": false,
  "kernelspec": {
   "display_name": "Python 3",
   "language": "python",
   "name": "python3"
  },
  "language_info": {
   "codemirror_mode": {
    "name": "ipython",
    "version": 3
   },
   "file_extension": ".py",
   "mimetype": "text/x-python",
   "name": "python",
   "nbconvert_exporter": "python",
   "pygments_lexer": "ipython3",
   "version": "3.8.5"
  },
  "toc": {
   "base_numbering": 1,
   "nav_menu": {},
   "number_sections": true,
   "sideBar": true,
   "skip_h1_title": false,
   "title_cell": "Table of Contents",
   "title_sidebar": "Contents",
   "toc_cell": false,
   "toc_position": {},
   "toc_section_display": true,
   "toc_window_display": false
  },
  "varInspector": {
   "cols": {
    "lenName": 16,
    "lenType": 16,
    "lenVar": 40
   },
   "kernels_config": {
    "python": {
     "delete_cmd_postfix": "",
     "delete_cmd_prefix": "del ",
     "library": "var_list.py",
     "varRefreshCmd": "print(var_dic_list())"
    },
    "r": {
     "delete_cmd_postfix": ") ",
     "delete_cmd_prefix": "rm(",
     "library": "var_list.r",
     "varRefreshCmd": "cat(var_dic_list()) "
    }
   },
   "types_to_exclude": [
    "module",
    "function",
    "builtin_function_or_method",
    "instance",
    "_Feature"
   ],
   "window_display": false
  }
 },
 "nbformat": 4,
 "nbformat_minor": 5
}
