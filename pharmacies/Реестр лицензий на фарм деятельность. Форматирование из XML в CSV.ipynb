{
 "cells": [
  {
   "cell_type": "markdown",
   "metadata": {},
   "source": [
    "### Импорт библиотек"
   ]
  },
  {
   "cell_type": "code",
   "execution_count": 1,
   "metadata": {
    "ExecuteTime": {
     "end_time": "2021-04-16T19:06:58.150365Z",
     "start_time": "2021-04-16T19:06:56.398120Z"
    }
   },
   "outputs": [],
   "source": [
    "from pprint import pprint\n",
    "import xml.etree.cElementTree as ET\n",
    "import pandas as pd\n",
    "import matplotlib.pyplot as plt"
   ]
  },
  {
   "cell_type": "markdown",
   "metadata": {},
   "source": [
    "### Загрузка данных"
   ]
  },
  {
   "cell_type": "code",
   "execution_count": 2,
   "metadata": {
    "ExecuteTime": {
     "end_time": "2021-04-16T19:07:12.434291Z",
     "start_time": "2021-04-16T19:06:59.478346Z"
    }
   },
   "outputs": [],
   "source": [
    "tree = ET.parse('./data-20210411-structure-20210307.xml')"
   ]
  },
  {
   "cell_type": "markdown",
   "metadata": {},
   "source": [
    "### Парсинг"
   ]
  },
  {
   "cell_type": "code",
   "execution_count": 3,
   "metadata": {
    "ExecuteTime": {
     "end_time": "2021-04-16T19:07:18.917164Z",
     "start_time": "2021-04-16T19:07:13.345432Z"
    }
   },
   "outputs": [
    {
     "name": "stdout",
     "output_type": "stream",
     "text": [
      "28126\n",
      "Wall time: 5.55 s\n"
     ]
    }
   ],
   "source": [
    "%%time\n",
    "licenses_list = tree.findall('.//licenses')\n",
    "print(len(licenses_list))\n",
    "licenses_data = []\n",
    "for license_company in licenses_list:\n",
    "    name = license_company.findall('./name')[0].text\n",
    "    activity_type = license_company.findall('./activity_type')[0].text\n",
    "    form = license_company.findall('./form')[0].text\n",
    "    full_name_licensee = license_company.findall('./full_name_licensee')[0].text\n",
    "    abbreviated_name_licensee = license_company.findall('./abbreviated_name_licensee')[0].text\n",
    "    brand_name_licensee = license_company.findall('./brand_name_licensee')[0].text\n",
    "    inn = license_company.findall('./inn')[0].text\n",
    "    date = license_company.findall('./date')[0].text\n",
    "    date_termination = license_company.findall('./date_termination')[0].text\n",
    "    information_reissuing = license_company.findall('./information_reissuing')[0].text\n",
    "    work_address_list = license_company.findall('./work_address_list/address_place')\n",
    "\n",
    "    for address_place in work_address_list:\n",
    "        address = address_place.findall('./address')[0].text\n",
    "        region = address_place.findall('./region')[0].text\n",
    "        city = address_place.findall('./city')[0].text\n",
    "        street = address_place.findall('./street')[0].text\n",
    "        works = address_place.findall('./works/work')\n",
    "        for work in works:\n",
    "            work = work.text\n",
    "\n",
    "            license_company_data = {\n",
    "                'Наименование лицензирующего органа': name,\n",
    "                'Лицензируемый вид деятельности': activity_type,\n",
    "                'Полное наименование лицензиата': full_name_licensee,\n",
    "                'Сокращенное наименование лицензиата': abbreviated_name_licensee,\n",
    "                'Фирменное наименование лицензиата': brand_name_licensee,\n",
    "                'Организационно-правовая форма': form,\n",
    "                'ИНН лицензиата': inn,\n",
    "                'Дата выдачи лицензии': date,\n",
    "                'Дата прекращения действия лицензии': date_termination,\n",
    "                'Выполняемые работы, оказываемые услуги': work,\n",
    "                'Адрес места осуществления лицензируемого вида деятельности': address,\n",
    "                'Регион': region,\n",
    "                'Населенный пункт': city,\n",
    "                'Улица, дом, офис и т.д.': street,\n",
    "                'Сведения о переоформлении лицензии': information_reissuing,\n",
    "            }\n",
    "            licenses_data.append(license_company_data)"
   ]
  },
  {
   "cell_type": "code",
   "execution_count": 7,
   "metadata": {
    "ExecuteTime": {
     "end_time": "2021-04-16T19:08:42.017738Z",
     "start_time": "2021-04-16T19:08:40.516607Z"
    }
   },
   "outputs": [
    {
     "data": {
      "text/plain": [
       "(371134, 15)"
      ]
     },
     "execution_count": 7,
     "metadata": {},
     "output_type": "execute_result"
    }
   ],
   "source": [
    "df_license = pd.DataFrame(licenses_data)\n",
    "df_license.shape"
   ]
  },
  {
   "cell_type": "code",
   "execution_count": 11,
   "metadata": {
    "ExecuteTime": {
     "end_time": "2021-04-16T19:10:03.325214Z",
     "start_time": "2021-04-16T19:10:03.126744Z"
    }
   },
   "outputs": [
    {
     "data": {
      "text/html": [
       "<div>\n",
       "<style scoped>\n",
       "    .dataframe tbody tr th:only-of-type {\n",
       "        vertical-align: middle;\n",
       "    }\n",
       "\n",
       "    .dataframe tbody tr th {\n",
       "        vertical-align: top;\n",
       "    }\n",
       "\n",
       "    .dataframe thead th {\n",
       "        text-align: right;\n",
       "    }\n",
       "</style>\n",
       "<table border=\"1\" class=\"dataframe\">\n",
       "  <thead>\n",
       "    <tr style=\"text-align: right;\">\n",
       "      <th></th>\n",
       "      <th>Наименование лицензирующего органа</th>\n",
       "      <th>Лицензируемый вид деятельности</th>\n",
       "      <th>Полное наименование лицензиата</th>\n",
       "      <th>Сокращенное наименование лицензиата</th>\n",
       "      <th>Фирменное наименование лицензиата</th>\n",
       "      <th>Организационно-правовая форма</th>\n",
       "      <th>ИНН лицензиата</th>\n",
       "      <th>Дата выдачи лицензии</th>\n",
       "      <th>Дата прекращения действия лицензии</th>\n",
       "      <th>Выполняемые работы, оказываемые услуги</th>\n",
       "      <th>Адрес места осуществления лицензируемого вида деятельности</th>\n",
       "      <th>Регион</th>\n",
       "      <th>Населенный пункт</th>\n",
       "      <th>Улица, дом, офис и т.д.</th>\n",
       "      <th>Сведения о переоформлении лицензии</th>\n",
       "    </tr>\n",
       "  </thead>\n",
       "  <tbody>\n",
       "    <tr>\n",
       "      <th>0</th>\n",
       "      <td>Министерство здравоохранения Свердловской области</td>\n",
       "      <td>Фармацевтическая деятельность</td>\n",
       "      <td>Общество с ограниченной ответственностью \"Ригл...</td>\n",
       "      <td>ООО «Ригла-Екатеринбург»</td>\n",
       "      <td>Общество с ограниченной ответственностью \"Ригл...</td>\n",
       "      <td>Общество с ограниченной ответственностью</td>\n",
       "      <td>6671131450</td>\n",
       "      <td>21.09.2018</td>\n",
       "      <td>None</td>\n",
       "      <td>03. хранение лекарственных препаратов для меди...</td>\n",
       "      <td>620149, Свердловская область, г. Екатеринбург,...</td>\n",
       "      <td>Свердловская область</td>\n",
       "      <td>Екатеринбург</td>\n",
       "      <td>ул. Серафимы Дерябиной, д. 51</td>\n",
       "      <td>None</td>\n",
       "    </tr>\n",
       "    <tr>\n",
       "      <th>1</th>\n",
       "      <td>Министерство здравоохранения Свердловской области</td>\n",
       "      <td>Фармацевтическая деятельность</td>\n",
       "      <td>Общество с ограниченной ответственностью \"Ригл...</td>\n",
       "      <td>ООО «Ригла-Екатеринбург»</td>\n",
       "      <td>Общество с ограниченной ответственностью \"Ригл...</td>\n",
       "      <td>Общество с ограниченной ответственностью</td>\n",
       "      <td>6671131450</td>\n",
       "      <td>21.09.2018</td>\n",
       "      <td>None</td>\n",
       "      <td>06. розничная торговля лекарственными препарат...</td>\n",
       "      <td>620149, Свердловская область, г. Екатеринбург,...</td>\n",
       "      <td>Свердловская область</td>\n",
       "      <td>Екатеринбург</td>\n",
       "      <td>ул. Серафимы Дерябиной, д. 51</td>\n",
       "      <td>None</td>\n",
       "    </tr>\n",
       "  </tbody>\n",
       "</table>\n",
       "</div>"
      ],
      "text/plain": [
       "                  Наименование лицензирующего органа  \\\n",
       "0  Министерство здравоохранения Свердловской области   \n",
       "1  Министерство здравоохранения Свердловской области   \n",
       "\n",
       "  Лицензируемый вид деятельности  \\\n",
       "0  Фармацевтическая деятельность   \n",
       "1  Фармацевтическая деятельность   \n",
       "\n",
       "                      Полное наименование лицензиата  \\\n",
       "0  Общество с ограниченной ответственностью \"Ригл...   \n",
       "1  Общество с ограниченной ответственностью \"Ригл...   \n",
       "\n",
       "  Сокращенное наименование лицензиата  \\\n",
       "0            ООО «Ригла-Екатеринбург»   \n",
       "1            ООО «Ригла-Екатеринбург»   \n",
       "\n",
       "                   Фирменное наименование лицензиата  \\\n",
       "0  Общество с ограниченной ответственностью \"Ригл...   \n",
       "1  Общество с ограниченной ответственностью \"Ригл...   \n",
       "\n",
       "              Организационно-правовая форма ИНН лицензиата  \\\n",
       "0  Общество с ограниченной ответственностью     6671131450   \n",
       "1  Общество с ограниченной ответственностью     6671131450   \n",
       "\n",
       "  Дата выдачи лицензии Дата прекращения действия лицензии  \\\n",
       "0           21.09.2018                               None   \n",
       "1           21.09.2018                               None   \n",
       "\n",
       "              Выполняемые работы, оказываемые услуги  \\\n",
       "0  03. хранение лекарственных препаратов для меди...   \n",
       "1  06. розничная торговля лекарственными препарат...   \n",
       "\n",
       "  Адрес места осуществления лицензируемого вида деятельности  \\\n",
       "0  620149, Свердловская область, г. Екатеринбург,...           \n",
       "1  620149, Свердловская область, г. Екатеринбург,...           \n",
       "\n",
       "                 Регион Населенный пункт        Улица, дом, офис и т.д.  \\\n",
       "0  Свердловская область     Екатеринбург  ул. Серафимы Дерябиной, д. 51   \n",
       "1  Свердловская область     Екатеринбург  ул. Серафимы Дерябиной, д. 51   \n",
       "\n",
       "  Сведения о переоформлении лицензии  \n",
       "0                               None  \n",
       "1                               None  "
      ]
     },
     "execution_count": 11,
     "metadata": {},
     "output_type": "execute_result"
    }
   ],
   "source": [
    "df_license.head(2)"
   ]
  },
  {
   "cell_type": "markdown",
   "metadata": {},
   "source": [
    "### Сохранение в to_json"
   ]
  },
  {
   "cell_type": "code",
   "execution_count": 13,
   "metadata": {
    "ExecuteTime": {
     "end_time": "2021-04-16T19:12:40.042622Z",
     "start_time": "2021-04-16T19:12:14.240684Z"
    }
   },
   "outputs": [],
   "source": [
    "df_license.to_json('licenses_20210411.json')"
   ]
  },
  {
   "cell_type": "code",
   "execution_count": null,
   "metadata": {},
   "outputs": [],
   "source": []
  }
 ],
 "metadata": {
  "hide_input": false,
  "kernelspec": {
   "display_name": "Python 3",
   "language": "python",
   "name": "python3"
  },
  "language_info": {
   "codemirror_mode": {
    "name": "ipython",
    "version": 3
   },
   "file_extension": ".py",
   "mimetype": "text/x-python",
   "name": "python",
   "nbconvert_exporter": "python",
   "pygments_lexer": "ipython3",
   "version": "3.8.5"
  },
  "toc": {
   "base_numbering": 1,
   "nav_menu": {},
   "number_sections": true,
   "sideBar": true,
   "skip_h1_title": false,
   "title_cell": "Table of Contents",
   "title_sidebar": "Contents",
   "toc_cell": false,
   "toc_position": {},
   "toc_section_display": true,
   "toc_window_display": false
  },
  "varInspector": {
   "cols": {
    "lenName": 16,
    "lenType": 16,
    "lenVar": 40
   },
   "kernels_config": {
    "python": {
     "delete_cmd_postfix": "",
     "delete_cmd_prefix": "del ",
     "library": "var_list.py",
     "varRefreshCmd": "print(var_dic_list())"
    },
    "r": {
     "delete_cmd_postfix": ") ",
     "delete_cmd_prefix": "rm(",
     "library": "var_list.r",
     "varRefreshCmd": "cat(var_dic_list()) "
    }
   },
   "position": {
    "height": "279.667px",
    "left": "935px",
    "right": "20px",
    "top": "120px",
    "width": "325px"
   },
   "types_to_exclude": [
    "module",
    "function",
    "builtin_function_or_method",
    "instance",
    "_Feature"
   ],
   "window_display": false
  }
 },
 "nbformat": 4,
 "nbformat_minor": 4
}
